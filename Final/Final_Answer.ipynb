{
 "cells": [
  {
   "cell_type": "markdown",
   "metadata": {},
   "source": [
    "## data generation script \n",
    "```python3 datageneration.py \"Qijun Yang\" \"./\"```"
   ]
  },
  {
   "cell_type": "markdown",
   "metadata": {},
   "source": [
    "# Final Exam"
   ]
  },
  {
   "cell_type": "markdown",
   "metadata": {},
   "source": [
    "# Q1\n",
    "``` \n",
    "1. Using the data in “problem1.csv”\n",
    "    a. Calculate Log Returns (2pts)\n",
    "    b. Calculate Pairwise Covariance (4pt)\n",
    "    c. Is this Matrix PSD? If not, fix it with the “near_psd” method (2pt)\n",
    "    d. Discuss when you might see data like this in the real world. (2pt)\n",
    "```"
   ]
  },
  {
   "cell_type": "markdown",
   "metadata": {},
   "source": [
    "### a. Calculate Log Returns (2pts)"
   ]
  },
  {
   "cell_type": "code",
   "execution_count": 1,
   "metadata": {},
   "outputs": [
    {
     "data": {
      "text/html": [
       "<div>\n",
       "<style scoped>\n",
       "    .dataframe tbody tr th:only-of-type {\n",
       "        vertical-align: middle;\n",
       "    }\n",
       "\n",
       "    .dataframe tbody tr th {\n",
       "        vertical-align: top;\n",
       "    }\n",
       "\n",
       "    .dataframe thead th {\n",
       "        text-align: right;\n",
       "    }\n",
       "</style>\n",
       "<table border=\"1\" class=\"dataframe\">\n",
       "  <thead>\n",
       "    <tr style=\"text-align: right;\">\n",
       "      <th></th>\n",
       "      <th>Price1</th>\n",
       "      <th>Price2</th>\n",
       "      <th>Price3</th>\n",
       "    </tr>\n",
       "    <tr>\n",
       "      <th>Date</th>\n",
       "      <th></th>\n",
       "      <th></th>\n",
       "      <th></th>\n",
       "    </tr>\n",
       "  </thead>\n",
       "  <tbody>\n",
       "    <tr>\n",
       "      <th>2023-04-15</th>\n",
       "      <td>-0.001612</td>\n",
       "      <td>0.001592</td>\n",
       "      <td>0.000575</td>\n",
       "    </tr>\n",
       "    <tr>\n",
       "      <th>2023-04-16</th>\n",
       "      <td>0.005625</td>\n",
       "      <td>0.026347</td>\n",
       "      <td>0.000830</td>\n",
       "    </tr>\n",
       "    <tr>\n",
       "      <th>2023-04-17</th>\n",
       "      <td>-0.007878</td>\n",
       "      <td>-0.018574</td>\n",
       "      <td>-0.000470</td>\n",
       "    </tr>\n",
       "    <tr>\n",
       "      <th>2023-04-18</th>\n",
       "      <td>-0.003407</td>\n",
       "      <td>-0.025790</td>\n",
       "      <td>-0.000927</td>\n",
       "    </tr>\n",
       "    <tr>\n",
       "      <th>2023-04-19</th>\n",
       "      <td>0.006595</td>\n",
       "      <td>0.017381</td>\n",
       "      <td>0.000220</td>\n",
       "    </tr>\n",
       "    <tr>\n",
       "      <th>2023-04-20</th>\n",
       "      <td>0.002060</td>\n",
       "      <td>0.014041</td>\n",
       "      <td>0.000619</td>\n",
       "    </tr>\n",
       "    <tr>\n",
       "      <th>2023-04-23</th>\n",
       "      <td>0.003370</td>\n",
       "      <td>0.008536</td>\n",
       "      <td>-0.000213</td>\n",
       "    </tr>\n",
       "    <tr>\n",
       "      <th>2023-04-24</th>\n",
       "      <td>-0.003166</td>\n",
       "      <td>-0.026338</td>\n",
       "      <td>-0.000765</td>\n",
       "    </tr>\n",
       "    <tr>\n",
       "      <th>2023-04-25</th>\n",
       "      <td>-0.000378</td>\n",
       "      <td>0.011499</td>\n",
       "      <td>0.000684</td>\n",
       "    </tr>\n",
       "    <tr>\n",
       "      <th>2023-04-26</th>\n",
       "      <td>0.000251</td>\n",
       "      <td>-0.000263</td>\n",
       "      <td>-0.000189</td>\n",
       "    </tr>\n",
       "    <tr>\n",
       "      <th>2023-04-27</th>\n",
       "      <td>-0.002395</td>\n",
       "      <td>-0.008243</td>\n",
       "      <td>-0.000325</td>\n",
       "    </tr>\n",
       "    <tr>\n",
       "      <th>2023-04-28</th>\n",
       "      <td>0.000935</td>\n",
       "      <td>-0.000187</td>\n",
       "      <td>-0.000039</td>\n",
       "    </tr>\n",
       "  </tbody>\n",
       "</table>\n",
       "</div>"
      ],
      "text/plain": [
       "              Price1    Price2    Price3\n",
       "Date                                    \n",
       "2023-04-15 -0.001612  0.001592  0.000575\n",
       "2023-04-16  0.005625  0.026347  0.000830\n",
       "2023-04-17 -0.007878 -0.018574 -0.000470\n",
       "2023-04-18 -0.003407 -0.025790 -0.000927\n",
       "2023-04-19  0.006595  0.017381  0.000220\n",
       "2023-04-20  0.002060  0.014041  0.000619\n",
       "2023-04-23  0.003370  0.008536 -0.000213\n",
       "2023-04-24 -0.003166 -0.026338 -0.000765\n",
       "2023-04-25 -0.000378  0.011499  0.000684\n",
       "2023-04-26  0.000251 -0.000263 -0.000189\n",
       "2023-04-27 -0.002395 -0.008243 -0.000325\n",
       "2023-04-28  0.000935 -0.000187 -0.000039"
      ]
     },
     "execution_count": 1,
     "metadata": {},
     "output_type": "execute_result"
    }
   ],
   "source": [
    "import pandas as pd\n",
    "import numpy as np\n",
    "from RiskPackage.CalculateReturn import return_calculate\n",
    "# Some data is missing\n",
    "df=pd.read_csv('problem1.csv',index_col='Date')\n",
    "# Remove the mean & Log Return(CONTINUOUS)\n",
    "rt=return_calculate(df,option=\"CONTINUOUS\",rm_means=True)  # Remove the NAN data\n",
    "rt"
   ]
  },
  {
   "cell_type": "code",
   "execution_count": 2,
   "metadata": {},
   "outputs": [
    {
     "data": {
      "text/html": [
       "<div>\n",
       "<style scoped>\n",
       "    .dataframe tbody tr th:only-of-type {\n",
       "        vertical-align: middle;\n",
       "    }\n",
       "\n",
       "    .dataframe tbody tr th {\n",
       "        vertical-align: top;\n",
       "    }\n",
       "\n",
       "    .dataframe thead th {\n",
       "        text-align: right;\n",
       "    }\n",
       "</style>\n",
       "<table border=\"1\" class=\"dataframe\">\n",
       "  <thead>\n",
       "    <tr style=\"text-align: right;\">\n",
       "      <th></th>\n",
       "      <th>Price1</th>\n",
       "      <th>Price2</th>\n",
       "      <th>Price3</th>\n",
       "    </tr>\n",
       "    <tr>\n",
       "      <th>Date</th>\n",
       "      <th></th>\n",
       "      <th></th>\n",
       "      <th></th>\n",
       "    </tr>\n",
       "  </thead>\n",
       "  <tbody>\n",
       "    <tr>\n",
       "      <th>2023-04-12</th>\n",
       "      <td>NaN</td>\n",
       "      <td>NaN</td>\n",
       "      <td>NaN</td>\n",
       "    </tr>\n",
       "    <tr>\n",
       "      <th>2023-04-13</th>\n",
       "      <td>0.003281</td>\n",
       "      <td>NaN</td>\n",
       "      <td>NaN</td>\n",
       "    </tr>\n",
       "    <tr>\n",
       "      <th>2023-04-14</th>\n",
       "      <td>0.000404</td>\n",
       "      <td>NaN</td>\n",
       "      <td>NaN</td>\n",
       "    </tr>\n",
       "    <tr>\n",
       "      <th>2023-04-15</th>\n",
       "      <td>-0.001680</td>\n",
       "      <td>0.001320</td>\n",
       "      <td>0.000609</td>\n",
       "    </tr>\n",
       "    <tr>\n",
       "      <th>2023-04-16</th>\n",
       "      <td>0.005556</td>\n",
       "      <td>0.026074</td>\n",
       "      <td>0.000864</td>\n",
       "    </tr>\n",
       "    <tr>\n",
       "      <th>2023-04-17</th>\n",
       "      <td>-0.007946</td>\n",
       "      <td>-0.018846</td>\n",
       "      <td>-0.000436</td>\n",
       "    </tr>\n",
       "    <tr>\n",
       "      <th>2023-04-18</th>\n",
       "      <td>-0.003475</td>\n",
       "      <td>-0.026063</td>\n",
       "      <td>-0.000893</td>\n",
       "    </tr>\n",
       "    <tr>\n",
       "      <th>2023-04-19</th>\n",
       "      <td>0.006527</td>\n",
       "      <td>0.017108</td>\n",
       "      <td>0.000254</td>\n",
       "    </tr>\n",
       "    <tr>\n",
       "      <th>2023-04-20</th>\n",
       "      <td>0.001992</td>\n",
       "      <td>0.013768</td>\n",
       "      <td>0.000653</td>\n",
       "    </tr>\n",
       "    <tr>\n",
       "      <th>2023-04-21</th>\n",
       "      <td>NaN</td>\n",
       "      <td>-0.005138</td>\n",
       "      <td>-0.000099</td>\n",
       "    </tr>\n",
       "    <tr>\n",
       "      <th>2023-04-22</th>\n",
       "      <td>NaN</td>\n",
       "      <td>0.005400</td>\n",
       "      <td>0.000159</td>\n",
       "    </tr>\n",
       "    <tr>\n",
       "      <th>2023-04-23</th>\n",
       "      <td>0.003302</td>\n",
       "      <td>0.008264</td>\n",
       "      <td>-0.000179</td>\n",
       "    </tr>\n",
       "    <tr>\n",
       "      <th>2023-04-24</th>\n",
       "      <td>-0.003235</td>\n",
       "      <td>-0.026610</td>\n",
       "      <td>-0.000731</td>\n",
       "    </tr>\n",
       "    <tr>\n",
       "      <th>2023-04-25</th>\n",
       "      <td>-0.000446</td>\n",
       "      <td>0.011227</td>\n",
       "      <td>0.000718</td>\n",
       "    </tr>\n",
       "    <tr>\n",
       "      <th>2023-04-26</th>\n",
       "      <td>0.000183</td>\n",
       "      <td>-0.000535</td>\n",
       "      <td>-0.000155</td>\n",
       "    </tr>\n",
       "    <tr>\n",
       "      <th>2023-04-27</th>\n",
       "      <td>-0.002463</td>\n",
       "      <td>-0.008515</td>\n",
       "      <td>-0.000291</td>\n",
       "    </tr>\n",
       "    <tr>\n",
       "      <th>2023-04-28</th>\n",
       "      <td>0.000867</td>\n",
       "      <td>-0.000459</td>\n",
       "      <td>-0.000005</td>\n",
       "    </tr>\n",
       "    <tr>\n",
       "      <th>2023-04-29</th>\n",
       "      <td>NaN</td>\n",
       "      <td>NaN</td>\n",
       "      <td>-0.000025</td>\n",
       "    </tr>\n",
       "    <tr>\n",
       "      <th>2023-04-30</th>\n",
       "      <td>NaN</td>\n",
       "      <td>NaN</td>\n",
       "      <td>NaN</td>\n",
       "    </tr>\n",
       "    <tr>\n",
       "      <th>2023-05-01</th>\n",
       "      <td>-0.002794</td>\n",
       "      <td>-0.006280</td>\n",
       "      <td>NaN</td>\n",
       "    </tr>\n",
       "  </tbody>\n",
       "</table>\n",
       "</div>"
      ],
      "text/plain": [
       "              Price1    Price2    Price3\n",
       "Date                                    \n",
       "2023-04-12       NaN       NaN       NaN\n",
       "2023-04-13  0.003281       NaN       NaN\n",
       "2023-04-14  0.000404       NaN       NaN\n",
       "2023-04-15 -0.001680  0.001320  0.000609\n",
       "2023-04-16  0.005556  0.026074  0.000864\n",
       "2023-04-17 -0.007946 -0.018846 -0.000436\n",
       "2023-04-18 -0.003475 -0.026063 -0.000893\n",
       "2023-04-19  0.006527  0.017108  0.000254\n",
       "2023-04-20  0.001992  0.013768  0.000653\n",
       "2023-04-21       NaN -0.005138 -0.000099\n",
       "2023-04-22       NaN  0.005400  0.000159\n",
       "2023-04-23  0.003302  0.008264 -0.000179\n",
       "2023-04-24 -0.003235 -0.026610 -0.000731\n",
       "2023-04-25 -0.000446  0.011227  0.000718\n",
       "2023-04-26  0.000183 -0.000535 -0.000155\n",
       "2023-04-27 -0.002463 -0.008515 -0.000291\n",
       "2023-04-28  0.000867 -0.000459 -0.000005\n",
       "2023-04-29       NaN       NaN -0.000025\n",
       "2023-04-30       NaN       NaN       NaN\n",
       "2023-05-01 -0.002794 -0.006280       NaN"
      ]
     },
     "execution_count": 2,
     "metadata": {},
     "output_type": "execute_result"
    }
   ],
   "source": [
    "# If we keep the missing data\n",
    "rt_with_NA = np.log(df/df.shift())\n",
    "rt_with_NA"
   ]
  },
  {
   "cell_type": "markdown",
   "metadata": {},
   "source": [
    "### b. Calculate Pairwise Covariance (4pt)"
   ]
  },
  {
   "cell_type": "code",
   "execution_count": 3,
   "metadata": {},
   "outputs": [
    {
     "data": {
      "text/html": [
       "<div>\n",
       "<style scoped>\n",
       "    .dataframe tbody tr th:only-of-type {\n",
       "        vertical-align: middle;\n",
       "    }\n",
       "\n",
       "    .dataframe tbody tr th {\n",
       "        vertical-align: top;\n",
       "    }\n",
       "\n",
       "    .dataframe thead th {\n",
       "        text-align: right;\n",
       "    }\n",
       "</style>\n",
       "<table border=\"1\" class=\"dataframe\">\n",
       "  <thead>\n",
       "    <tr style=\"text-align: right;\">\n",
       "      <th></th>\n",
       "      <th>Price1</th>\n",
       "      <th>Price2</th>\n",
       "      <th>Price3</th>\n",
       "    </tr>\n",
       "  </thead>\n",
       "  <tbody>\n",
       "    <tr>\n",
       "      <th>Price1</th>\n",
       "      <td>0.064025</td>\n",
       "      <td>0.243096</td>\n",
       "      <td>0.004409</td>\n",
       "    </tr>\n",
       "    <tr>\n",
       "      <th>Price2</th>\n",
       "      <td>0.243096</td>\n",
       "      <td>1.199251</td>\n",
       "      <td>0.032727</td>\n",
       "    </tr>\n",
       "    <tr>\n",
       "      <th>Price3</th>\n",
       "      <td>0.004409</td>\n",
       "      <td>0.032727</td>\n",
       "      <td>0.001196</td>\n",
       "    </tr>\n",
       "  </tbody>\n",
       "</table>\n",
       "</div>"
      ],
      "text/plain": [
       "          Price1    Price2    Price3\n",
       "Price1  0.064025  0.243096  0.004409\n",
       "Price2  0.243096  1.199251  0.032727\n",
       "Price3  0.004409  0.032727  0.001196"
      ]
     },
     "execution_count": 3,
     "metadata": {},
     "output_type": "execute_result"
    }
   ],
   "source": [
    "# Pandas' cov method can help us do that.\n",
    "# Here is the documentation: \n",
    "'''\n",
    "    DataFrame.cov(min_periods=None, ddof=1, numeric_only=False)[source]\n",
    "        Compute pairwise covariance of columns, excluding NA/null values.\n",
    "\n",
    "        Compute the pairwise covariance among the series of a DataFrame. The returned data frame is the covariance matrix of the columns of the DataFrame.\n",
    "'''\n",
    "cov=df.cov()\n",
    "cov"
   ]
  },
  {
   "cell_type": "markdown",
   "metadata": {},
   "source": [
    "### c. Is this Matrix PSD? If not, fix it with the “near_psd” method (2pt)"
   ]
  },
  {
   "cell_type": "code",
   "execution_count": 4,
   "metadata": {},
   "outputs": [
    {
     "name": "stdout",
     "output_type": "stream",
     "text": [
      "The matrix is not PSD\n"
     ]
    }
   ],
   "source": [
    "# Test the matrix is PSD or not\n",
    "from RiskPackage.NonPsdFixes import PSD\n",
    "try:\n",
    "    PSD.confirm(cov.to_numpy())\n",
    "except:\n",
    "    print(\"The matrix is not PSD\")"
   ]
  },
  {
   "cell_type": "code",
   "execution_count": 5,
   "metadata": {},
   "outputs": [
    {
     "data": {
      "text/plain": [
       "array([[6.40249348e-02, 2.42102261e-01, 4.41350426e-03],\n",
       "       [2.42102261e-01, 1.19925078e+00, 3.25967968e-02],\n",
       "       [4.41350426e-03, 3.25967968e-02, 1.19599547e-03]])"
      ]
     },
     "execution_count": 5,
     "metadata": {},
     "output_type": "execute_result"
    }
   ],
   "source": [
    "# Use Rebonato and Jackel's Method (near_psd) to fix it\n",
    "from RiskPackage.NonPsdFixes import near_psd\n",
    "# Weighted Matrix -- Set it to be diagonal\n",
    "n=cov.to_numpy().shape[0]\n",
    "weight=np.eye(n)\n",
    "# Fix non-PSD matrix\n",
    "cov_psd=near_psd(cov.to_numpy(),weight).psd\n",
    "cov_psd"
   ]
  },
  {
   "cell_type": "code",
   "execution_count": 6,
   "metadata": {},
   "outputs": [
    {
     "name": "stdout",
     "output_type": "stream",
     "text": [
      "Matrix is Sysmetric Positive Definite!\n"
     ]
    }
   ],
   "source": [
    "# Test the Fixed matrix is PSD or not\n",
    "try:\n",
    "    PSD.confirm(cov_psd)\n",
    "except:\n",
    "    print(\"The matrix is not PSD\")"
   ]
  },
  {
   "cell_type": "markdown",
   "metadata": {},
   "source": [
    "### d. Discuss when you might see data like this in the real world. (2pt)"
   ]
  },
  {
   "cell_type": "markdown",
   "metadata": {},
   "source": [
    "1. When I want make some transactions about several securities among different conturies. I may encounter missing data like this since not all markets are open at the same time on the same days.\n",
    "2. When I deal with high frequency data to do high-frequency trading, the missing data is much more common. With time intervals measured in milliseconds, it is impossible to see updated prices on all assets. \n"
   ]
  },
  {
   "cell_type": "markdown",
   "metadata": {},
   "source": [
    "# Q2\n",
    "```\n",
    "“problem2.csv” contains data about a call option. Time to maturity is given in days. Assume 255 days in a year.\n",
    "    a. Calculate the call price (1pt)\n",
    "    b. Calculate Delta (1pt)\n",
    "    c. Calculate Gamma (1pt)\n",
    "    d. Calculate Vega (1pt)\n",
    "    e. Calculate Rho (1pt)\n",
    "Assume you are long 1 share of underlying and are short 1 call option. \n",
    "Using Monte Carlo assuming a Normal distribution of arithmetic returns where the implied volatility is the annual volatility and 0 mean\n",
    "    f. Calculate VaR at 5% (2pt)\n",
    "    g. Calculate ES at 5% (2pt)\n",
    "    h. This portfolio’s payoff structure most closely resembles what? (1pt)\n",
    "```"
   ]
  },
  {
   "cell_type": "markdown",
   "metadata": {},
   "source": [
    "### a. Calculate the call price (1pt)"
   ]
  },
  {
   "cell_type": "code",
   "execution_count": 7,
   "metadata": {},
   "outputs": [
    {
     "name": "stdout",
     "output_type": "stream",
     "text": [
      "The Call Option Price is 3.733860012361646\n"
     ]
    }
   ],
   "source": [
    "# Initialization\n",
    "df=pd.read_csv('problem2.csv')\n",
    "t=df['TTM'][0] \n",
    "tradingDayYear=255 # trading days\n",
    "ttm=t/tradingDayYear # TTM\n",
    "s=df['Underlying'][0] # Underlying Price\n",
    "strike=df['Strike'][0] # Strike Price\n",
    "rf=df['RF'][0] # Risk-Free rate\n",
    "q=df['DivRate'][0] # Dividend Rate\n",
    "c=rf-q # cost of carry\n",
    "vol=df['IV'][0] # Implied Vol\n",
    "\n",
    "from RiskPackage.Options import gbsm\n",
    "call_price=gbsm(s,strike,ttm,vol,rf,c,call=True)\n",
    "print(\"The Call Option Price is {}\".format(call_price))"
   ]
  },
  {
   "cell_type": "markdown",
   "metadata": {},
   "source": [
    "### b. Calculate Delta (1pt)\n",
    "### c. Calculate Gamma (1pt)\n",
    "### d. Calculate Vega (1pt)\n",
    "### e. Calculate Rho (1pt)"
   ]
  },
  {
   "cell_type": "code",
   "execution_count": 8,
   "metadata": {},
   "outputs": [
    {
     "data": {
      "text/html": [
       "<div>\n",
       "<style scoped>\n",
       "    .dataframe tbody tr th:only-of-type {\n",
       "        vertical-align: middle;\n",
       "    }\n",
       "\n",
       "    .dataframe tbody tr th {\n",
       "        vertical-align: top;\n",
       "    }\n",
       "\n",
       "    .dataframe thead th {\n",
       "        text-align: right;\n",
       "    }\n",
       "</style>\n",
       "<table border=\"1\" class=\"dataframe\">\n",
       "  <thead>\n",
       "    <tr style=\"text-align: right;\">\n",
       "      <th></th>\n",
       "      <th>Detla</th>\n",
       "      <th>Gamma</th>\n",
       "      <th>Vega</th>\n",
       "      <th>Rho</th>\n",
       "    </tr>\n",
       "  </thead>\n",
       "  <tbody>\n",
       "    <tr>\n",
       "      <th>Call</th>\n",
       "      <td>0.432162</td>\n",
       "      <td>0.031107</td>\n",
       "      <td>31.558321</td>\n",
       "      <td>25.364706</td>\n",
       "    </tr>\n",
       "  </tbody>\n",
       "</table>\n",
       "</div>"
      ],
      "text/plain": [
       "         Detla     Gamma       Vega        Rho\n",
       "Call  0.432162  0.031107  31.558321  25.364706"
      ]
     },
     "execution_count": 8,
     "metadata": {},
     "output_type": "execute_result"
    }
   ],
   "source": [
    "# I have written a function to calculate all greeks at once\n",
    "from RiskPackage.Options import greeks_closed_form\n",
    "\n",
    "# Get all the Greeks\n",
    "call_greeks_closed_form=greeks_closed_form(s,strike,ttm,vol,rf,c,call=True)\n",
    "call_greeks_closed_form[['Detla','Gamma','Vega','Rho']]"
   ]
  },
  {
   "cell_type": "markdown",
   "metadata": {},
   "source": [
    "### f. Calculate VaR at 5% (2pt)\n"
   ]
  },
  {
   "cell_type": "code",
   "execution_count": 9,
   "metadata": {},
   "outputs": [
    {
     "name": "stdout",
     "output_type": "stream",
     "text": [
      "Var is 22.36460957190024\n"
     ]
    }
   ],
   "source": [
    "from scipy.stats import norm\n",
    "\n",
    "# Simulated Returns with 0 mean and implied Vol\n",
    "size=10000\n",
    "simulatedReturn=norm.rvs(size=size,loc=0,scale=vol)\n",
    "# Simulated Underlying Price\n",
    "simPrice=s*(1+simulatedReturn)\n",
    "# Simulated Portfolio Value Change\n",
    "SimPortValueChange = (simPrice - s) * 1  +  (gbsm(simPrice,strike,ttm,vol,rf,c,call=True)- call_price)*(-1)\n",
    "\n",
    "from RiskPackage.RiskMetrics import RiskMetrics\n",
    "VaR=RiskMetrics.VaR_historical(SimPortValueChange,alpha=0.05)\n",
    "print(\"Var is {}\".format(VaR))"
   ]
  },
  {
   "cell_type": "markdown",
   "metadata": {},
   "source": [
    "### g. Calculate ES at 5% (2pt)"
   ]
  },
  {
   "cell_type": "code",
   "execution_count": 10,
   "metadata": {},
   "outputs": [
    {
     "name": "stdout",
     "output_type": "stream",
     "text": [
      "ES is 28.89056862227861\n"
     ]
    }
   ],
   "source": [
    "from RiskPackage.RiskMetrics import RiskMetrics\n",
    "ES=RiskMetrics.ES_historical(SimPortValueChange,alpha=0.05)\n",
    "print(\"ES is {}\".format(ES))"
   ]
  },
  {
   "cell_type": "markdown",
   "metadata": {},
   "source": [
    "### h. This portfolio’s payoff structure most closely resembles what? (1pt)"
   ]
  },
  {
   "cell_type": "markdown",
   "metadata": {},
   "source": [
    "Due to the Put Call Parity $C+Xe^{-rt}=P+S$, we have $S-C=Xe^{-rt}-P$, which means that like we are shorting a put option."
   ]
  },
  {
   "cell_type": "markdown",
   "metadata": {},
   "source": [
    "# Q3\n",
    "```\n",
    "Data in “problem3_cov.csv” is the covariance for 3 assets. “problem3_ER.csv” is the expected\n",
    "return for each asset as well as the risk free rate.\n",
    "    a. Calculate the Maximum Sharpe Ratio Portfolio (4pt)\n",
    "    b. Calculate the Risk Parity Portfolio (4pt)\n",
    "    c. Compare the differences between the portfolio and explain why. (2pt)\n",
    "```"
   ]
  },
  {
   "cell_type": "markdown",
   "metadata": {},
   "source": [
    "### a. Calculate the Maximum Sharpe Ratio Portfolio (4pt)"
   ]
  },
  {
   "cell_type": "code",
   "execution_count": 11,
   "metadata": {},
   "outputs": [
    {
     "name": "stdout",
     "output_type": "stream",
     "text": [
      "------ Maximum Sharpe Ratio Portfolio -------\n"
     ]
    },
    {
     "data": {
      "text/html": [
       "<div>\n",
       "<style scoped>\n",
       "    .dataframe tbody tr th:only-of-type {\n",
       "        vertical-align: middle;\n",
       "    }\n",
       "\n",
       "    .dataframe tbody tr th {\n",
       "        vertical-align: top;\n",
       "    }\n",
       "\n",
       "    .dataframe thead th {\n",
       "        text-align: right;\n",
       "    }\n",
       "</style>\n",
       "<table border=\"1\" class=\"dataframe\">\n",
       "  <thead>\n",
       "    <tr style=\"text-align: right;\">\n",
       "      <th></th>\n",
       "      <th>Weight</th>\n",
       "      <th>RiskPortion</th>\n",
       "    </tr>\n",
       "  </thead>\n",
       "  <tbody>\n",
       "    <tr>\n",
       "      <th>Asset1</th>\n",
       "      <td>0.335766</td>\n",
       "      <td>0.337592</td>\n",
       "    </tr>\n",
       "    <tr>\n",
       "      <th>Asset2</th>\n",
       "      <td>0.298656</td>\n",
       "      <td>0.331164</td>\n",
       "    </tr>\n",
       "    <tr>\n",
       "      <th>Asset3</th>\n",
       "      <td>0.365578</td>\n",
       "      <td>0.331244</td>\n",
       "    </tr>\n",
       "  </tbody>\n",
       "</table>\n",
       "</div>"
      ],
      "text/plain": [
       "          Weight  RiskPortion\n",
       "Asset1  0.335766     0.337592\n",
       "Asset2  0.298656     0.331164\n",
       "Asset3  0.365578     0.331244"
      ]
     },
     "execution_count": 11,
     "metadata": {},
     "output_type": "execute_result"
    }
   ],
   "source": [
    "# Covariance Matrix of all assets\n",
    "cov=pd.read_csv('problem3_cov.csv')\n",
    "cov.index=cov.columns\n",
    "# Expected Returns of all assets\n",
    "ER=pd.read_csv('problem3_ER.csv')\n",
    "ER_assets=ER.iloc[0,1:]\n",
    "# Risk-free rate\n",
    "rf=ER['RF'][0]\n",
    "\n",
    "from RiskPackage.PortfolioOptimization import super_efficient_portfolio\n",
    "from RiskPackage.PortfolioOptimization import riskBudget\n",
    "# Calculate the Super Efficient Portfolio/Maximum Sharpe Ratio Portfolio\n",
    "resSR=super_efficient_portfolio(ER_assets,cov,rf=rf)\n",
    "SR_Portfolio=pd.DataFrame(index=cov.index)\n",
    "SR_Portfolio['Weight']=resSR.x\n",
    "SR_Portfolio['RiskPortion']=riskBudget(SR_Portfolio['Weight'],cov)\n",
    "print(\"------ Maximum Sharpe Ratio Portfolio -------\")\n",
    "SR_Portfolio"
   ]
  },
  {
   "cell_type": "markdown",
   "metadata": {},
   "source": [
    "### b. Calculate the Risk Parity Portfolio (4pt)"
   ]
  },
  {
   "cell_type": "code",
   "execution_count": 12,
   "metadata": {},
   "outputs": [
    {
     "name": "stdout",
     "output_type": "stream",
     "text": [
      "------ Risk Parity Portfolio -------\n"
     ]
    },
    {
     "data": {
      "text/html": [
       "<div>\n",
       "<style scoped>\n",
       "    .dataframe tbody tr th:only-of-type {\n",
       "        vertical-align: middle;\n",
       "    }\n",
       "\n",
       "    .dataframe tbody tr th {\n",
       "        vertical-align: top;\n",
       "    }\n",
       "\n",
       "    .dataframe thead th {\n",
       "        text-align: right;\n",
       "    }\n",
       "</style>\n",
       "<table border=\"1\" class=\"dataframe\">\n",
       "  <thead>\n",
       "    <tr style=\"text-align: right;\">\n",
       "      <th></th>\n",
       "      <th>Weight</th>\n",
       "      <th>RiskPortion</th>\n",
       "    </tr>\n",
       "  </thead>\n",
       "  <tbody>\n",
       "    <tr>\n",
       "      <th>Asset1</th>\n",
       "      <td>0.331671</td>\n",
       "      <td>0.333336</td>\n",
       "    </tr>\n",
       "    <tr>\n",
       "      <th>Asset2</th>\n",
       "      <td>0.300538</td>\n",
       "      <td>0.333334</td>\n",
       "    </tr>\n",
       "    <tr>\n",
       "      <th>Asset3</th>\n",
       "      <td>0.367791</td>\n",
       "      <td>0.333330</td>\n",
       "    </tr>\n",
       "  </tbody>\n",
       "</table>\n",
       "</div>"
      ],
      "text/plain": [
       "          Weight  RiskPortion\n",
       "Asset1  0.331671     0.333336\n",
       "Asset2  0.300538     0.333334\n",
       "Asset3  0.367791     0.333330"
      ]
     },
     "execution_count": 12,
     "metadata": {},
     "output_type": "execute_result"
    }
   ],
   "source": [
    "from RiskPackage.PortfolioOptimization import RiskParity\n",
    "# Calculate the Risk Parity Portfolio\n",
    "resRP=RiskParity(cov)\n",
    "RP_Portfolio=pd.DataFrame(index=cov.index)\n",
    "RP_Portfolio['Weight']=resRP.x\n",
    "RP_Portfolio['RiskPortion']=riskBudget(RP_Portfolio['Weight'],cov)\n",
    "print(\"------ Risk Parity Portfolio -------\")\n",
    "RP_Portfolio"
   ]
  },
  {
   "cell_type": "markdown",
   "metadata": {},
   "source": [
    "### c. Compare the differences between the portfolio and explain why. (2pt)"
   ]
  },
  {
   "cell_type": "markdown",
   "metadata": {},
   "source": [
    "As we can see from above, the risk(volatility) propotion of two portfolios are different. In Maximum Sharpe Ratio Portfolio, Asset1 has the most risk exposure. However, all the risk are equally distributed in Risk Parity Portfolio. Three assets has the same risk exposure.\n",
    "The reason why this happens is that Maximum Sharpe Ratio Portfolio is constructed by optimaizing the portfolio Sharpe ratio, but the Risk Parity Portfolio is built by making sure each assets contribute same volatility to the total portfolio."
   ]
  },
  {
   "cell_type": "markdown",
   "metadata": {},
   "source": [
    "# Q4\n",
    "```\n",
    "Data in “problem4_returns.csv” is a series of returns for 3 assets. \n",
    "“problem4_startWeight.csv” is the starting weights of a portfolio of these assets as of the first day in the return series.\n",
    "    a. Calculate the new weights for the start of each time period (2pt)\n",
    "    b. Calculate the ex-post return attribution of the portfolio on each asset (4pt)\n",
    "    c. Calculate the ex-post risk attribution of the portfolio on each asset (2pt)\n",
    "```"
   ]
  },
  {
   "cell_type": "markdown",
   "metadata": {},
   "source": [
    "### a. Calculate the new weights for the start of each time period (2pt)"
   ]
  },
  {
   "cell_type": "code",
   "execution_count": 13,
   "metadata": {},
   "outputs": [
    {
     "name": "stdout",
     "output_type": "stream",
     "text": [
      "--------------- New Weights ----------------\n"
     ]
    },
    {
     "data": {
      "text/html": [
       "<div>\n",
       "<style scoped>\n",
       "    .dataframe tbody tr th:only-of-type {\n",
       "        vertical-align: middle;\n",
       "    }\n",
       "\n",
       "    .dataframe tbody tr th {\n",
       "        vertical-align: top;\n",
       "    }\n",
       "\n",
       "    .dataframe thead th {\n",
       "        text-align: right;\n",
       "    }\n",
       "</style>\n",
       "<table border=\"1\" class=\"dataframe\">\n",
       "  <thead>\n",
       "    <tr style=\"text-align: right;\">\n",
       "      <th></th>\n",
       "      <th>Asset1</th>\n",
       "      <th>Asset2</th>\n",
       "      <th>Asset3</th>\n",
       "    </tr>\n",
       "    <tr>\n",
       "      <th>Date</th>\n",
       "      <th></th>\n",
       "      <th></th>\n",
       "      <th></th>\n",
       "    </tr>\n",
       "  </thead>\n",
       "  <tbody>\n",
       "    <tr>\n",
       "      <th>2023-04-12</th>\n",
       "      <td>0.315777</td>\n",
       "      <td>0.262697</td>\n",
       "      <td>0.421526</td>\n",
       "    </tr>\n",
       "    <tr>\n",
       "      <th>2023-04-13</th>\n",
       "      <td>0.328093</td>\n",
       "      <td>0.261497</td>\n",
       "      <td>0.410410</td>\n",
       "    </tr>\n",
       "    <tr>\n",
       "      <th>2023-04-14</th>\n",
       "      <td>0.286589</td>\n",
       "      <td>0.289380</td>\n",
       "      <td>0.424031</td>\n",
       "    </tr>\n",
       "    <tr>\n",
       "      <th>2023-04-15</th>\n",
       "      <td>0.283248</td>\n",
       "      <td>0.284838</td>\n",
       "      <td>0.431914</td>\n",
       "    </tr>\n",
       "    <tr>\n",
       "      <th>2023-04-16</th>\n",
       "      <td>0.269069</td>\n",
       "      <td>0.297431</td>\n",
       "      <td>0.433500</td>\n",
       "    </tr>\n",
       "    <tr>\n",
       "      <th>2023-04-17</th>\n",
       "      <td>0.274706</td>\n",
       "      <td>0.274285</td>\n",
       "      <td>0.451009</td>\n",
       "    </tr>\n",
       "    <tr>\n",
       "      <th>2023-04-18</th>\n",
       "      <td>0.273578</td>\n",
       "      <td>0.265141</td>\n",
       "      <td>0.461281</td>\n",
       "    </tr>\n",
       "    <tr>\n",
       "      <th>2023-04-19</th>\n",
       "      <td>0.239212</td>\n",
       "      <td>0.277775</td>\n",
       "      <td>0.483013</td>\n",
       "    </tr>\n",
       "    <tr>\n",
       "      <th>2023-04-20</th>\n",
       "      <td>0.247415</td>\n",
       "      <td>0.265680</td>\n",
       "      <td>0.486904</td>\n",
       "    </tr>\n",
       "    <tr>\n",
       "      <th>2023-04-21</th>\n",
       "      <td>0.228139</td>\n",
       "      <td>0.274530</td>\n",
       "      <td>0.497332</td>\n",
       "    </tr>\n",
       "    <tr>\n",
       "      <th>2023-04-22</th>\n",
       "      <td>0.229906</td>\n",
       "      <td>0.284942</td>\n",
       "      <td>0.485152</td>\n",
       "    </tr>\n",
       "    <tr>\n",
       "      <th>2023-04-23</th>\n",
       "      <td>0.247224</td>\n",
       "      <td>0.296308</td>\n",
       "      <td>0.456468</td>\n",
       "    </tr>\n",
       "    <tr>\n",
       "      <th>2023-04-24</th>\n",
       "      <td>0.261224</td>\n",
       "      <td>0.327946</td>\n",
       "      <td>0.410829</td>\n",
       "    </tr>\n",
       "    <tr>\n",
       "      <th>2023-04-25</th>\n",
       "      <td>0.245000</td>\n",
       "      <td>0.340344</td>\n",
       "      <td>0.414656</td>\n",
       "    </tr>\n",
       "    <tr>\n",
       "      <th>2023-04-26</th>\n",
       "      <td>0.243514</td>\n",
       "      <td>0.330274</td>\n",
       "      <td>0.426212</td>\n",
       "    </tr>\n",
       "    <tr>\n",
       "      <th>2023-04-27</th>\n",
       "      <td>0.246413</td>\n",
       "      <td>0.304130</td>\n",
       "      <td>0.449456</td>\n",
       "    </tr>\n",
       "    <tr>\n",
       "      <th>2023-04-28</th>\n",
       "      <td>0.245670</td>\n",
       "      <td>0.289219</td>\n",
       "      <td>0.465111</td>\n",
       "    </tr>\n",
       "    <tr>\n",
       "      <th>2023-04-29</th>\n",
       "      <td>0.245182</td>\n",
       "      <td>0.282629</td>\n",
       "      <td>0.472189</td>\n",
       "    </tr>\n",
       "    <tr>\n",
       "      <th>2023-04-30</th>\n",
       "      <td>0.237708</td>\n",
       "      <td>0.287623</td>\n",
       "      <td>0.474669</td>\n",
       "    </tr>\n",
       "    <tr>\n",
       "      <th>2023-05-01</th>\n",
       "      <td>0.252431</td>\n",
       "      <td>0.294725</td>\n",
       "      <td>0.452844</td>\n",
       "    </tr>\n",
       "  </tbody>\n",
       "</table>\n",
       "</div>"
      ],
      "text/plain": [
       "              Asset1    Asset2    Asset3\n",
       "Date                                    \n",
       "2023-04-12  0.315777  0.262697  0.421526\n",
       "2023-04-13  0.328093  0.261497  0.410410\n",
       "2023-04-14  0.286589  0.289380  0.424031\n",
       "2023-04-15  0.283248  0.284838  0.431914\n",
       "2023-04-16  0.269069  0.297431  0.433500\n",
       "2023-04-17  0.274706  0.274285  0.451009\n",
       "2023-04-18  0.273578  0.265141  0.461281\n",
       "2023-04-19  0.239212  0.277775  0.483013\n",
       "2023-04-20  0.247415  0.265680  0.486904\n",
       "2023-04-21  0.228139  0.274530  0.497332\n",
       "2023-04-22  0.229906  0.284942  0.485152\n",
       "2023-04-23  0.247224  0.296308  0.456468\n",
       "2023-04-24  0.261224  0.327946  0.410829\n",
       "2023-04-25  0.245000  0.340344  0.414656\n",
       "2023-04-26  0.243514  0.330274  0.426212\n",
       "2023-04-27  0.246413  0.304130  0.449456\n",
       "2023-04-28  0.245670  0.289219  0.465111\n",
       "2023-04-29  0.245182  0.282629  0.472189\n",
       "2023-04-30  0.237708  0.287623  0.474669\n",
       "2023-05-01  0.252431  0.294725  0.452844"
      ]
     },
     "execution_count": 13,
     "metadata": {},
     "output_type": "execute_result"
    }
   ],
   "source": [
    "# Get returns and updated weights for each day\n",
    "rts=pd.read_csv('problem4_returns.csv',index_col='Date')\n",
    "rts.index=pd.to_datetime(rts.index)\n",
    "# initial weights\n",
    "last_weight=pd.read_csv('problem4_startWeight.csv').loc[0,:]\n",
    "last_weight.index=rts.columns\n",
    "\n",
    "# Update the Weights\n",
    "weights=[]\n",
    "portfolio_rts=[]\n",
    "for i in range(rts.shape[0]):\n",
    "    # Store the weights\n",
    "    weights.append(last_weight)\n",
    "\n",
    "    # Update Weights by return\n",
    "    last_weight=last_weight*(rts.iloc[i,:]+1)\n",
    "    # Calculate the portforlio return\n",
    "    p_rt=last_weight.sum()\n",
    "    # Normalize the wieghts back so sum = 1\n",
    "    last_weight=last_weight/p_rt\n",
    "    \n",
    "    # Store the portforlio return\n",
    "    portfolio_rts.append(p_rt-1)\n",
    "weights=pd.DataFrame(weights,index=rts.index)\n",
    "weights.index=pd.to_datetime(weights.index)\n",
    "print(\"--------------- New Weights ----------------\")\n",
    "weights"
   ]
  },
  {
   "cell_type": "markdown",
   "metadata": {},
   "source": [
    "### b. Calculate the ex-post return attribution of the portfolio on each asset (4pt)"
   ]
  },
  {
   "cell_type": "code",
   "execution_count": 14,
   "metadata": {},
   "outputs": [
    {
     "data": {
      "text/html": [
       "<div>\n",
       "<style scoped>\n",
       "    .dataframe tbody tr th:only-of-type {\n",
       "        vertical-align: middle;\n",
       "    }\n",
       "\n",
       "    .dataframe tbody tr th {\n",
       "        vertical-align: top;\n",
       "    }\n",
       "\n",
       "    .dataframe thead th {\n",
       "        text-align: right;\n",
       "    }\n",
       "</style>\n",
       "<table border=\"1\" class=\"dataframe\">\n",
       "  <thead>\n",
       "    <tr style=\"text-align: right;\">\n",
       "      <th></th>\n",
       "      <th>Asset1</th>\n",
       "      <th>Asset2</th>\n",
       "      <th>Asset3</th>\n",
       "      <th>PortfolioReturn</th>\n",
       "    </tr>\n",
       "  </thead>\n",
       "  <tbody>\n",
       "    <tr>\n",
       "      <th>TotalReturnAttribution</th>\n",
       "      <td>-0.000948</td>\n",
       "      <td>0.110041</td>\n",
       "      <td>0.179663</td>\n",
       "      <td>0.109093</td>\n",
       "    </tr>\n",
       "  </tbody>\n",
       "</table>\n",
       "</div>"
      ],
      "text/plain": [
       "                          Asset1    Asset2    Asset3  PortfolioReturn\n",
       "TotalReturnAttribution -0.000948  0.110041  0.179663         0.109093"
      ]
     },
     "execution_count": 14,
     "metadata": {},
     "output_type": "execute_result"
    }
   ],
   "source": [
    "# Add the Portfolio Return to the dataframe rts\n",
    "rts['PortfolioReturn']=pd.DataFrame(portfolio_rts,index=rts.index)\n",
    "# Calculate the total return\n",
    "total_rt=(rts['PortfolioReturn']+1).prod()-1\n",
    "\n",
    "# Calculate the Carino K\n",
    "k=np.log(total_rt+1)/total_rt\n",
    "# Carino k_t is the ratio scaled by 1/K \n",
    "carinoK = np.log(1+rts['PortfolioReturn'])/k/rts['PortfolioReturn']\n",
    "# Transform carinoK to dataframe to be multiplied by weights and rts\n",
    "carinoK_df=pd.DataFrame([carinoK]*weights.shape[1],index=weights.columns).T\n",
    "# Calculate the return attribution (has been adjusted by carinoK_df)\n",
    "return_attribution=(weights * rts * carinoK_df).dropna(axis=1)\n",
    "\n",
    "# Calculate the total return attribution\n",
    "total_rt_attribution=return_attribution.sum()\n",
    "# Combine the total_rt_attribution and total_rts together to compare with each other\n",
    "attribution_df=pd.concat([total_rt_attribution],axis=1).T\n",
    "attribution_df.index=['TotalReturnAttribution']\n",
    "attribution_df.loc['TotalReturnAttribution','PortfolioReturn']=attribution_df.loc['TotalReturnAttribution'][:-1].sum()\n",
    "attribution_df"
   ]
  },
  {
   "cell_type": "markdown",
   "metadata": {},
   "source": [
    "### c. Calculate the ex-post risk attribution of the portfolio on each asset (2pt)"
   ]
  },
  {
   "cell_type": "code",
   "execution_count": 15,
   "metadata": {},
   "outputs": [
    {
     "name": "stdout",
     "output_type": "stream",
     "text": [
      "Does the the sum of component SD is equal to the portfolio SD? True\n"
     ]
    },
    {
     "data": {
      "text/html": [
       "<div>\n",
       "<style scoped>\n",
       "    .dataframe tbody tr th:only-of-type {\n",
       "        vertical-align: middle;\n",
       "    }\n",
       "\n",
       "    .dataframe tbody tr th {\n",
       "        vertical-align: top;\n",
       "    }\n",
       "\n",
       "    .dataframe thead th {\n",
       "        text-align: right;\n",
       "    }\n",
       "</style>\n",
       "<table border=\"1\" class=\"dataframe\">\n",
       "  <thead>\n",
       "    <tr style=\"text-align: right;\">\n",
       "      <th></th>\n",
       "      <th>Asset1</th>\n",
       "      <th>Asset2</th>\n",
       "      <th>Asset3</th>\n",
       "      <th>Portfolio</th>\n",
       "    </tr>\n",
       "  </thead>\n",
       "  <tbody>\n",
       "    <tr>\n",
       "      <th>VolatilityAttribution</th>\n",
       "      <td>0.011066</td>\n",
       "      <td>0.004482</td>\n",
       "      <td>0.020816</td>\n",
       "      <td>0.036363</td>\n",
       "    </tr>\n",
       "  </tbody>\n",
       "</table>\n",
       "</div>"
      ],
      "text/plain": [
       "                         Asset1    Asset2    Asset3 Portfolio\n",
       "VolatilityAttribution  0.011066  0.004482  0.020816  0.036363"
      ]
     },
     "execution_count": 15,
     "metadata": {},
     "output_type": "execute_result"
    }
   ],
   "source": [
    "from scipy import linalg\n",
    "# Y is stock returns scaled by their weight at each time\n",
    "Y = (weights * rts).dropna(axis=1)\n",
    "\n",
    "# Set up X with the Portfolio Return\n",
    "X = pd.DataFrame(rts['PortfolioReturn'])\n",
    "X['Intersect']=1\n",
    "\n",
    "# Calculate the Beta and discard the intercept\n",
    "B = (linalg.inv(X.T@X)@X.T@Y).iloc[:-1,:]\n",
    "\n",
    "# Component SD is Beta times the standard Deviation of the portfolio\n",
    "cSD = B * rts['PortfolioReturn'].std()\n",
    "\n",
    "#Check that the sum of component SD is equal to the portfolio SD\n",
    "print(\"Does the the sum of component SD is equal to the portfolio SD? {}\".format(np.isclose(cSD.sum(axis=1),rts['PortfolioReturn'].std())[0]))\n",
    "\n",
    "# Add the portfolio SD to the cSD\n",
    "cSD['Portfolio']=rts['PortfolioReturn'].std()\n",
    "\n",
    "# Add the Vol attribution to attribution_df\n",
    "columns=list(attribution_df.columns)\n",
    "columns[-1]='Portfolio'\n",
    "Vol_attribution=pd.DataFrame(columns=columns)\n",
    "Vol_attribution.loc['VolatilityAttribution',:]=cSD.values\n",
    "Vol_attribution"
   ]
  },
  {
   "cell_type": "markdown",
   "metadata": {},
   "source": [
    "# Q5\n",
    "```\n",
    "Input prices in “problem5.csv” are for a portfolio. You hold 1 share of each asset. Using\n",
    "arithmetic returns, fit a generalized T distribution to each asset return series. Using a Gaussian\n",
    "Copula\n",
    "    a. Calculate VaR (5%) for each asset (3pt)\n",
    "    b. Calculate VaR (5%) for a portfolio of Asset 1 &2 and a portfolio of Asset 3&4 (4pt)\n",
    "    c. Calculate VaR (5%) for a portfolio of all 4 assets. (3pt)\n",
    "```"
   ]
  },
  {
   "cell_type": "code",
   "execution_count": 16,
   "metadata": {},
   "outputs": [],
   "source": [
    "from scipy.stats import norm,spearmanr,multivariate_normal,t\n",
    "df_price=pd.read_csv('problem5.csv',index_col='Date')\n",
    "rts=return_calculate(df_price,option=\"DISCRETE\")\n",
    "rts.columns=['Return1','Return2','Return3','Return4']\n",
    "\n",
    "# Set the Retruns to be Y\n",
    "Y = rts\n",
    "\n",
    "# Use the CDF to transform the data to uniform universe\n",
    "U=[]\n",
    "Model_T=[]\n",
    "for i in range(Y.shape[1]):\n",
    "    params=t.fit(Y.iloc[:,i].values)\n",
    "    Model_T.append(t(df=params[0],loc=params[1],scale=params[2]))\n",
    "    U.append(Model_T[i].cdf(Y.iloc[:,i]))\n",
    "\n",
    "nSim = 10000\n",
    "\n",
    "# Gaussian Copula\n",
    "# Use the standard normal quantile function to transform the uniform to normal \n",
    "Z=norm.ppf(U)\n",
    "Z=pd.DataFrame(Z,index=Y.columns).T\n",
    "# Spearman correlation\n",
    "corr_spearman = spearmanr(Z,axis=0)[0]\n",
    "# Simulate Normal & Transform to uniform\n",
    "simU=norm.cdf(multivariate_normal.rvs(cov=corr_spearman, size=nSim))\n",
    "simU=pd.DataFrame(simU,columns=Y.columns)\n",
    "# Transform to T Distribution\n",
    "simReturns=[]\n",
    "for i in range(Y.shape[1]):\n",
    "    simReturns.append(Model_T[i].ppf(simU.iloc[:,i]))\n",
    "\n",
    "# convert simulated returns to dataframe\n",
    "simReturns=pd.DataFrame(simReturns,index=Y.columns).T\n"
   ]
  },
  {
   "cell_type": "markdown",
   "metadata": {},
   "source": [
    "### a. Calculate VaR (5%) for each asset (3pt)"
   ]
  },
  {
   "cell_type": "code",
   "execution_count": 17,
   "metadata": {},
   "outputs": [
    {
     "name": "stdout",
     "output_type": "stream",
     "text": [
      "The fisrt VaR is $0.07549\n",
      "The second VaR is $0.07713\n",
      "The third VaR is $0.07580\n",
      "The forth VaR is $0.07743\n"
     ]
    }
   ],
   "source": [
    "from RiskPackage.RiskMetrics import RiskMetrics\n",
    "# Var1\n",
    "VaR_1=RiskMetrics.VaR_historical(simReturns['Return1'].to_numpy(),alpha=0.05)*df_price.iloc[-1,:]['Price1']\n",
    "print(\"The fisrt VaR is ${:.5f}\".format(VaR_1))\n",
    "\n",
    "# Var2\n",
    "VaR_2=RiskMetrics.VaR_historical(simReturns['Return2'].to_numpy(),alpha=0.05)*df_price.iloc[-1,:]['Price2']\n",
    "print(\"The second VaR is ${:.5f}\".format(VaR_2))\n",
    "\n",
    "# Var3\n",
    "VaR_3=RiskMetrics.VaR_historical(simReturns['Return3'].to_numpy(),alpha=0.05)*df_price.iloc[-1,:]['Price3']\n",
    "print(\"The third VaR is ${:.5f}\".format(VaR_3))\n",
    "\n",
    "# Var4\n",
    "VaR_4=RiskMetrics.VaR_historical(simReturns['Return4'].to_numpy(),alpha=0.05)*df_price.iloc[-1,:]['Price4']\n",
    "print(\"The forth VaR is ${:.5f}\".format(VaR_4))"
   ]
  },
  {
   "cell_type": "markdown",
   "metadata": {},
   "source": [
    "### b. Calculate VaR (5%) for a portfolio of Asset 1 &2 and a portfolio of Asset 3&4 (4pt)"
   ]
  },
  {
   "cell_type": "code",
   "execution_count": 18,
   "metadata": {},
   "outputs": [
    {
     "name": "stdout",
     "output_type": "stream",
     "text": [
      "The VaR of Portfolio 1 & 2 is $0.15262\n",
      "The VaR of Portfolio 3 & 4 is $0.15323\n"
     ]
    }
   ],
   "source": [
    "# portfolio of Asset 1 & 2\n",
    "# Portfolio Value Variation = simulated returns1 * lastPrice1 + simulated returns2 * lastPrice2\n",
    "SimulatedVariation=pd.DataFrame(df_price.iloc[-1,:][['Price1','Price2']].to_numpy()*simReturns[['Return1','Return2']].to_numpy()).sum(axis=1)\n",
    "VaR_12=RiskMetrics.VaR_historical(SimulatedVariation.to_numpy(),alpha=0.05)\n",
    "# portfolio of Asset 3 & 4\n",
    "# Portfolio Value Variation = simulated returns3 * lastPrice3 + simulated returns3 * lastPrice4\n",
    "SimulatedVariation=pd.DataFrame(df_price.iloc[-1,:][['Price3','Price4']].to_numpy()*simReturns[['Return3','Return4']].to_numpy()).sum(axis=1)\n",
    "VaR_34=RiskMetrics.VaR_historical(SimulatedVariation.to_numpy(),alpha=0.05)\n",
    "\n",
    "print(\"The VaR of Portfolio 1 & 2 is ${:.5f}\".format(VaR_12))\n",
    "print(\"The VaR of Portfolio 3 & 4 is ${:.5f}\".format(VaR_34))"
   ]
  },
  {
   "cell_type": "markdown",
   "metadata": {},
   "source": [
    "### c. Calculate VaR (5%) for a portfolio of all 4 assets. (3pt)"
   ]
  },
  {
   "cell_type": "code",
   "execution_count": 19,
   "metadata": {},
   "outputs": [
    {
     "name": "stdout",
     "output_type": "stream",
     "text": [
      "The VaR of Portfolio of 4 Assets is $0.30585\n"
     ]
    }
   ],
   "source": [
    "# portfolio of 4 Assets\n",
    "# Portfolio Value Variation = simulated returns1 * price1 + simulated returns2 * price2\n",
    "SimulatedVariation=pd.DataFrame(df_price.iloc[-1,:].to_numpy()*simReturns.to_numpy()).sum(axis=1)\n",
    "VaR_All=RiskMetrics.VaR_historical(SimulatedVariation.to_numpy(),alpha=0.05)\n",
    "print(\"The VaR of Portfolio of 4 Assets is ${:.5f}\".format(VaR_All))"
   ]
  }
 ],
 "metadata": {
  "kernelspec": {
   "display_name": "Python 3.10.6 64-bit",
   "language": "python",
   "name": "python3"
  },
  "language_info": {
   "codemirror_mode": {
    "name": "ipython",
    "version": 3
   },
   "file_extension": ".py",
   "mimetype": "text/x-python",
   "name": "python",
   "nbconvert_exporter": "python",
   "pygments_lexer": "ipython3",
   "version": "3.10.6"
  },
  "orig_nbformat": 4,
  "vscode": {
   "interpreter": {
    "hash": "aee8b7b246df8f9039afb4144a1f6fd8d2ca17a180786b69acc140d282b71a49"
   }
  }
 },
 "nbformat": 4,
 "nbformat_minor": 2
}

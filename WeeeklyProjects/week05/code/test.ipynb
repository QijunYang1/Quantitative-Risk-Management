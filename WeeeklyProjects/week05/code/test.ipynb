{
 "cells": [
  {
   "cell_type": "code",
   "execution_count": 73,
   "metadata": {},
   "outputs": [],
   "source": [
    "import pandas as pd\n",
    "import numpy as np\n",
    "from pandas.testing import assert_frame_equal\n"
   ]
  },
  {
   "cell_type": "markdown",
   "metadata": {},
   "source": [
    "# Test `CalculateReturn` Module"
   ]
  },
  {
   "cell_type": "code",
   "execution_count": 74,
   "metadata": {},
   "outputs": [
    {
     "name": "stderr",
     "output_type": "stream",
     "text": [
      "test_return_calculate (__main__.TestCalculateReturn) ... ok\n",
      "test_EWMA_corr (__main__.TestCovarianceEstimation) ... ok\n",
      "test_EWMA_cov (__main__.TestCovarianceEstimation) ... ok\n",
      "test_Norm (__main__.TestModelFitter) ... ok\n",
      "test_T (__main__.TestModelFitter) ... ok\n",
      "test_Higham_psd (__main__.TestNonPsdFixes) ... ok\n",
      "test_chol_psd_PD (__main__.TestNonPsdFixes) ... ok\n",
      "test_chol_psd_PSD (__main__.TestNonPsdFixes) ... ok\n",
      "test_near_psd (__main__.TestNonPsdFixes) ... ok\n",
      "test_ES (__main__.TestRiskMetrics) ... ok\n",
      "test_VaR (__main__.TestRiskMetrics) ... ok\n",
      "test_DirectSimulation (__main__.TestSimulationMethods) ... ok\n",
      "test_PCA (__main__.TestSimulationMethods) ... ok\n",
      "test_PCASimulation (__main__.TestSimulationMethods) ... ok\n",
      "\n",
      "----------------------------------------------------------------------\n",
      "Ran 14 tests in 0.633s\n",
      "\n",
      "OK\n"
     ]
    },
    {
     "name": "stdout",
     "output_type": "stream",
     "text": [
      "Matrix is Sysmetric Positive Definite!\n",
      "Matrix is Sysmetric Positive Definite!\n"
     ]
    },
    {
     "data": {
      "text/plain": [
       "<unittest.main.TestProgram at 0x177e39d20>"
      ]
     },
     "execution_count": 74,
     "metadata": {},
     "output_type": "execute_result"
    }
   ],
   "source": [
    "import unittest\n",
    "from RiskPackage.CalculateReturn import return_calculate\n",
    "class TestCalculateReturn(unittest.TestCase):\n",
    "    # Add ssert_frame_equal to the unittest\n",
    "    def assertDataframeEqual(self, a, b, msg):\n",
    "        try:\n",
    "            assert_frame_equal(a, b)\n",
    "        except AssertionError as e:\n",
    "            raise self.failureException(msg) from e\n",
    "\n",
    "    def setUp(self):\n",
    "        self.addTypeEqualityFunc(pd.DataFrame, self.assertDataframeEqual)\n",
    "\n",
    "    def test_return_calculate(self):\n",
    "        df=pd.read_csv('DailyPrices.csv',index_col='Date')\n",
    "        # calculate the returns\n",
    "        rt=return_calculate(df)\n",
    "        res=return_calculate(rt)\n",
    "        ans=pd.read_csv('test/Answer_return_calculate.csv',index_col='Date')\n",
    "        \n",
    "        self.assertEqual(res,ans)\n",
    "\n",
    "unittest.main(argv=[''], verbosity=2, exit=False)"
   ]
  },
  {
   "cell_type": "markdown",
   "metadata": {},
   "source": [
    "# Test `CovarianceEstimation` Module"
   ]
  },
  {
   "cell_type": "code",
   "execution_count": 75,
   "metadata": {},
   "outputs": [
    {
     "name": "stderr",
     "output_type": "stream",
     "text": [
      "test_return_calculate (__main__.TestCalculateReturn) ... ok\n",
      "test_EWMA_corr (__main__.TestCovarianceEstimation) ... ok\n",
      "test_EWMA_cov (__main__.TestCovarianceEstimation) ... ok\n",
      "test_Norm (__main__.TestModelFitter) ... ok\n",
      "test_T (__main__.TestModelFitter) ... ok\n",
      "test_Higham_psd (__main__.TestNonPsdFixes) ... ok\n",
      "test_chol_psd_PD (__main__.TestNonPsdFixes) ... ok\n",
      "test_chol_psd_PSD (__main__.TestNonPsdFixes) ... ok\n",
      "test_near_psd (__main__.TestNonPsdFixes) ... ok\n",
      "test_ES (__main__.TestRiskMetrics) ... ok\n",
      "test_VaR (__main__.TestRiskMetrics) ... ok\n",
      "test_DirectSimulation (__main__.TestSimulationMethods) ... ok\n",
      "test_PCA (__main__.TestSimulationMethods) ... ok\n",
      "test_PCASimulation (__main__.TestSimulationMethods) ... ok\n",
      "\n",
      "----------------------------------------------------------------------\n",
      "Ran 14 tests in 0.719s\n",
      "\n",
      "OK\n"
     ]
    },
    {
     "name": "stdout",
     "output_type": "stream",
     "text": [
      "Matrix is Sysmetric Positive Definite!\n",
      "Matrix is Sysmetric Positive Definite!\n"
     ]
    },
    {
     "data": {
      "text/plain": [
       "<unittest.main.TestProgram at 0x177e4f820>"
      ]
     },
     "execution_count": 75,
     "metadata": {},
     "output_type": "execute_result"
    }
   ],
   "source": [
    "import unittest\n",
    "from RiskPackage.CovarianceEstimation import EWMA\n",
    "class TestCovarianceEstimation(unittest.TestCase):\n",
    "    # Add ssert_frame_equal to the unittest\n",
    "    def assertDataframeEqual(self, a, b, msg):\n",
    "        try:\n",
    "            assert_frame_equal(a, b)\n",
    "        except AssertionError as e:\n",
    "            raise self.failureException(msg) from e\n",
    "\n",
    "    def setUp(self):\n",
    "        self.addTypeEqualityFunc(pd.DataFrame, self.assertDataframeEqual)\n",
    "\n",
    "    def test_EWMA_cov(self):\n",
    "        df=pd.read_csv('DailyReturn.csv',index_col=0)\n",
    "        data=np.array(df)\n",
    "        model=EWMA(data,0.97) \n",
    "        res=pd.DataFrame(model.cov_mat)\n",
    "        ans=pd.read_csv('test/Answer_EWMACov.csv',index_col=0)\n",
    "        ans=pd.DataFrame(np.array(ans))\n",
    "        self.assertEqual(res,ans)\n",
    "\n",
    "    def test_EWMA_corr(self):\n",
    "        df=pd.read_csv('DailyReturn.csv',index_col=0)\n",
    "        data=np.array(df)\n",
    "        model=EWMA(data,0.97) \n",
    "        res=pd.DataFrame(model.corr_mat)\n",
    "        ans=pd.read_csv('test/Answer_EWMACorr.csv',index_col=0)\n",
    "        ans=pd.DataFrame(np.array(ans))\n",
    "        self.assertEqual(res,ans)\n",
    "        \n",
    "unittest.main(argv=[''], verbosity=2, exit=False)"
   ]
  },
  {
   "cell_type": "markdown",
   "metadata": {},
   "source": [
    "# Test `ModelFitter` Module"
   ]
  },
  {
   "cell_type": "code",
   "execution_count": 76,
   "metadata": {},
   "outputs": [
    {
     "name": "stderr",
     "output_type": "stream",
     "text": [
      "test_return_calculate (__main__.TestCalculateReturn) ... ok\n",
      "test_EWMA_corr (__main__.TestCovarianceEstimation) ... ok\n",
      "test_EWMA_cov (__main__.TestCovarianceEstimation) ... ok\n",
      "test_Norm (__main__.TestModelFitter) ... ok\n",
      "test_T (__main__.TestModelFitter) ... ok\n",
      "test_Higham_psd (__main__.TestNonPsdFixes) ... ok\n",
      "test_chol_psd_PD (__main__.TestNonPsdFixes) ... ok\n",
      "test_chol_psd_PSD (__main__.TestNonPsdFixes) ... ok\n",
      "test_near_psd (__main__.TestNonPsdFixes) ... ok\n",
      "test_ES (__main__.TestRiskMetrics) ... ok\n",
      "test_VaR (__main__.TestRiskMetrics) ... ok\n",
      "test_DirectSimulation (__main__.TestSimulationMethods) ... ok\n",
      "test_PCA (__main__.TestSimulationMethods) ... ok\n",
      "test_PCASimulation (__main__.TestSimulationMethods) ... ok\n",
      "\n",
      "----------------------------------------------------------------------\n",
      "Ran 14 tests in 0.550s\n",
      "\n",
      "OK\n"
     ]
    },
    {
     "name": "stdout",
     "output_type": "stream",
     "text": [
      "Matrix is Sysmetric Positive Definite!\n",
      "Matrix is Sysmetric Positive Definite!\n"
     ]
    },
    {
     "data": {
      "text/plain": [
       "<unittest.main.TestProgram at 0x177e5d600>"
      ]
     },
     "execution_count": 76,
     "metadata": {},
     "output_type": "execute_result"
    }
   ],
   "source": [
    "import unittest\n",
    "from RiskPackage.ModelFitter import Norm,T\n",
    "class TestModelFitter(unittest.TestCase):\n",
    "\n",
    "    def test_Norm(self):\n",
    "        data=pd.read_csv('problem1.csv') # read the data\n",
    "        data=np.array(data.values).reshape(data.size) # transform to array\n",
    "        # Fit the normal distribution\n",
    "        norm=Norm()\n",
    "        norm.fit(data)\n",
    "        res=norm.fitted_parameters\n",
    "        ans=np.array([-0.00087983,  0.04886453])\n",
    "        self.assertTrue(np.allclose(ans,res,atol=1e-7))\n",
    "\n",
    "    def test_T(self):\n",
    "        data=pd.read_csv('problem1.csv') # read the data\n",
    "        data=np.array(data.values).reshape(data.size) # transform to array\n",
    "        t=T()\n",
    "        t.fit(data)\n",
    "        ans=t.fitted_parameters\n",
    "        res=np.array([ 4.25128435e+00, -9.40174459e-05,  3.64400151e-02])\n",
    "        self.assertTrue(np.allclose(ans,res,atol=1e-7))\n",
    "\n",
    "unittest.main(argv=[''], verbosity=2, exit=False)"
   ]
  },
  {
   "cell_type": "markdown",
   "metadata": {},
   "source": [
    "# Test `NonPsdFixes` Module"
   ]
  },
  {
   "cell_type": "code",
   "execution_count": 77,
   "metadata": {},
   "outputs": [
    {
     "name": "stderr",
     "output_type": "stream",
     "text": [
      "test_return_calculate (__main__.TestCalculateReturn) ... ok\n",
      "test_EWMA_corr (__main__.TestCovarianceEstimation) ... ok\n",
      "test_EWMA_cov (__main__.TestCovarianceEstimation) ... ok\n",
      "test_Norm (__main__.TestModelFitter) ... ok\n",
      "test_T (__main__.TestModelFitter) ... ok\n",
      "test_Higham_psd (__main__.TestNonPsdFixes) ... ok\n",
      "test_chol_psd_PD (__main__.TestNonPsdFixes) ... ok\n",
      "test_chol_psd_PSD (__main__.TestNonPsdFixes) ... ok\n",
      "test_near_psd (__main__.TestNonPsdFixes) ... ok\n",
      "test_ES (__main__.TestRiskMetrics) ... ok\n",
      "test_VaR (__main__.TestRiskMetrics) ... ok\n",
      "test_DirectSimulation (__main__.TestSimulationMethods) ... ok\n",
      "test_PCA (__main__.TestSimulationMethods) ... ok\n",
      "test_PCASimulation (__main__.TestSimulationMethods) ... ok\n",
      "\n",
      "----------------------------------------------------------------------\n",
      "Ran 14 tests in 0.691s\n",
      "\n",
      "OK\n"
     ]
    },
    {
     "name": "stdout",
     "output_type": "stream",
     "text": [
      "Matrix is Sysmetric Positive Definite!\n",
      "Matrix is Sysmetric Positive Definite!\n"
     ]
    },
    {
     "data": {
      "text/plain": [
       "<unittest.main.TestProgram at 0x177e4f580>"
      ]
     },
     "execution_count": 77,
     "metadata": {},
     "output_type": "execute_result"
    }
   ],
   "source": [
    "import unittest\n",
    "from RiskPackage.NonPsdFixes import chol_psd,PSD,near_psd,Higham_psd\n",
    "class TestNonPsdFixes(unittest.TestCase):\n",
    "    # Add ssert_frame_equal to the unittest\n",
    "\n",
    "    def test_chol_psd_PD(self):\n",
    "        # PD\n",
    "        sigma=np.full([5,5],0.9)\n",
    "        np.fill_diagonal(sigma, 1)\n",
    "        root=chol_psd(sigma).root\n",
    "        self.assertTrue(np.allclose(root@root.T,sigma))\n",
    "\n",
    "    def test_chol_psd_PSD(self):\n",
    "        # PSD\n",
    "        sigma=np.full([5,5],0.9)\n",
    "        np.fill_diagonal(sigma, 1)\n",
    "        sigma[0][1]=1\n",
    "        sigma[1][0]=1\n",
    "        v,c=np.linalg.eig(sigma)\n",
    "        root=chol_psd(sigma).root\n",
    "        self.assertTrue(np.allclose(root@root.T,sigma))\n",
    "\n",
    "    def test_near_psd(self):\n",
    "        # Non-PSD\n",
    "        non_psd=np.full([5,5],0.9)\n",
    "        np.fill_diagonal(non_psd, 1)\n",
    "        non_psd[0][1]=0.7357\n",
    "        non_psd[1][0]=0.7357\n",
    "        weight=np.eye(5)\n",
    "        near_psd_model=near_psd(non_psd,weight)\n",
    "        psd=near_psd_model.psd\n",
    "        self.assertTrue(PSD.confirm(psd))\n",
    "\n",
    "    def test_Higham_psd(self):\n",
    "        # Non-PSD\n",
    "        non_psd=np.full([5,5],0.9)\n",
    "        np.fill_diagonal(non_psd, 1)\n",
    "        non_psd[0][1]=0.7357\n",
    "        non_psd[1][0]=0.7357\n",
    "        weight=np.eye(5)\n",
    "        Higham_psd_model=Higham_psd(non_psd,weight)\n",
    "        psd=Higham_psd_model.psd\n",
    "        self.assertTrue(PSD.confirm(psd))\n",
    "\n",
    "unittest.main(argv=[''], verbosity=2, exit=False)"
   ]
  },
  {
   "cell_type": "markdown",
   "metadata": {},
   "source": [
    "# Test `RiskMetrics` Module"
   ]
  },
  {
   "cell_type": "code",
   "execution_count": 78,
   "metadata": {},
   "outputs": [
    {
     "name": "stderr",
     "output_type": "stream",
     "text": [
      "test_return_calculate (__main__.TestCalculateReturn) ... ok\n",
      "test_EWMA_corr (__main__.TestCovarianceEstimation) ... ok\n",
      "test_EWMA_cov (__main__.TestCovarianceEstimation) ... ok\n",
      "test_Norm (__main__.TestModelFitter) ... ok\n",
      "test_T (__main__.TestModelFitter) ... ok\n",
      "test_Higham_psd (__main__.TestNonPsdFixes) ... ok\n",
      "test_chol_psd_PD (__main__.TestNonPsdFixes) ... ok\n",
      "test_chol_psd_PSD (__main__.TestNonPsdFixes) ... ok\n",
      "test_near_psd (__main__.TestNonPsdFixes) ... ok\n",
      "test_ES (__main__.TestRiskMetrics) ... ok\n",
      "test_VaR (__main__.TestRiskMetrics) ... ok\n",
      "test_DirectSimulation (__main__.TestSimulationMethods) ... ok\n",
      "test_PCA (__main__.TestSimulationMethods) ... ok\n",
      "test_PCASimulation (__main__.TestSimulationMethods) ... ok\n",
      "\n",
      "----------------------------------------------------------------------\n",
      "Ran 14 tests in 0.769s\n",
      "\n",
      "OK\n"
     ]
    },
    {
     "name": "stdout",
     "output_type": "stream",
     "text": [
      "Matrix is Sysmetric Positive Definite!\n",
      "Matrix is Sysmetric Positive Definite!\n"
     ]
    },
    {
     "data": {
      "text/plain": [
       "<unittest.main.TestProgram at 0x177e23310>"
      ]
     },
     "execution_count": 78,
     "metadata": {},
     "output_type": "execute_result"
    }
   ],
   "source": [
    "import unittest\n",
    "from RiskPackage.RiskMetrics import RiskMetrics\n",
    "from RiskPackage.ModelFitter import Norm,T\n",
    "class TestRiskMetrics(unittest.TestCase):\n",
    "    # Add ssert_frame_equal to the unittest\n",
    "\n",
    "    def test_VaR(self):\n",
    "        data=pd.read_csv('problem1.csv') # read the data\n",
    "        data=np.array(data.values).reshape(data.size) # transform to array\n",
    "        norm=Norm()\n",
    "        norm.fit(data)\n",
    "        fitted_norm=norm.fitted_dist\n",
    "        res=RiskMetrics.VaR_dist(fitted_norm)\n",
    "        ans=0.08125483146358596\n",
    "        self.assertAlmostEqual(res,ans)\n",
    "        \n",
    "    def test_ES(self):\n",
    "        data=pd.read_csv('problem1.csv') # read the data\n",
    "        data=np.array(data.values).reshape(data.size) # transform to array\n",
    "        norm=Norm()\n",
    "        norm.fit(data)\n",
    "        fitted_norm=norm.fitted_dist\n",
    "        res=RiskMetrics.ES_dist(fitted_norm)\n",
    "        ans=0.10167332455409121\n",
    "        self.assertAlmostEqual(res,ans)\n",
    "    \n",
    "unittest.main(argv=[''], verbosity=2, exit=False)"
   ]
  },
  {
   "cell_type": "markdown",
   "metadata": {},
   "source": [
    "# Test `SimulationMethods` Module"
   ]
  },
  {
   "cell_type": "code",
   "execution_count": 79,
   "metadata": {},
   "outputs": [
    {
     "name": "stderr",
     "output_type": "stream",
     "text": [
      "test_return_calculate (__main__.TestCalculateReturn) ... ok\n",
      "test_EWMA_corr (__main__.TestCovarianceEstimation) ... ok\n",
      "test_EWMA_cov (__main__.TestCovarianceEstimation) ... ok\n",
      "test_Norm (__main__.TestModelFitter) ... ok\n",
      "test_T (__main__.TestModelFitter) ... ok\n",
      "test_Higham_psd (__main__.TestNonPsdFixes) ... ok\n",
      "test_chol_psd_PD (__main__.TestNonPsdFixes) ... ok\n",
      "test_chol_psd_PSD (__main__.TestNonPsdFixes) ... ok\n",
      "test_near_psd (__main__.TestNonPsdFixes) ... ok\n",
      "test_ES (__main__.TestRiskMetrics) ... ok\n",
      "test_VaR (__main__.TestRiskMetrics) ... ok\n",
      "test_DirectSimulation (__main__.TestSimulationMethods) ... ok\n",
      "test_PCA (__main__.TestSimulationMethods) ... ok\n",
      "test_PCASimulation (__main__.TestSimulationMethods) ... ok\n",
      "\n",
      "----------------------------------------------------------------------\n",
      "Ran 14 tests in 0.657s\n",
      "\n",
      "OK\n"
     ]
    },
    {
     "name": "stdout",
     "output_type": "stream",
     "text": [
      "Matrix is Sysmetric Positive Definite!\n",
      "Matrix is Sysmetric Positive Definite!\n"
     ]
    },
    {
     "data": {
      "text/plain": [
       "<unittest.main.TestProgram at 0x177e5f8b0>"
      ]
     },
     "execution_count": 79,
     "metadata": {},
     "output_type": "execute_result"
    }
   ],
   "source": [
    "import unittest\n",
    "from RiskPackage.SimulationMethods import PCA,Simulator\n",
    "from sklearn import decomposition\n",
    "\n",
    "class TestSimulationMethods(unittest.TestCase):\n",
    "    # Add ssert_frame_equal to the unittest\n",
    "\n",
    "    def test_PCA(self):\n",
    "        data = np.array([[1, 2, 3, 4],\n",
    "                            [4, 9, 6, 8],\n",
    "                            [7, 2, 9, 10]])\n",
    "        cov = np.cov(data)\n",
    "        PCA_model=PCA(cov)\n",
    "\n",
    "        ans = decomposition.PCA()\n",
    "        ans.fit(data.T)   # transposition\n",
    "\n",
    "        res=PCA_model.percent_expalined()\n",
    "        ans=ans.explained_variance_\n",
    "        ans=ans.cumsum()/ans.sum()\n",
    "        self.assertTrue(np.allclose(ans,res,atol=1e-7))\n",
    "    \n",
    "    def test_DirectSimulation(self):\n",
    "        data = np.array([[1, 2, 3, 4],\n",
    "                            [4, 9, 6, 8],\n",
    "                            [7, 2, 9, 10]])\n",
    "        ans = np.cov(data)\n",
    "        simulator = Simulator(cov,100000)\n",
    "        sample=simulator.DirectSimulation()\n",
    "        res=np.cov(sample)\n",
    "        self.assertTrue(np.allclose(ans,res,atol=1e-1))\n",
    "\n",
    "    def test_PCASimulation(self):\n",
    "        data = np.array([[1, 2, 3, 4],\n",
    "                            [4, 9, 6, 8],\n",
    "                            [7, 2, 9, 10]])\n",
    "        ans = np.cov(data)\n",
    "        simulator = Simulator(cov,100000)\n",
    "        sample=simulator.PCA_Simulation(1)\n",
    "        res=np.cov(sample)\n",
    "        self.assertTrue(np.allclose(ans,res,atol=1e-1))\n",
    "\n",
    "\n",
    "    \n",
    "unittest.main(argv=[''], verbosity=2, exit=False)"
   ]
  }
 ],
 "metadata": {
  "kernelspec": {
   "display_name": "Python 3.10.6 64-bit",
   "language": "python",
   "name": "python3"
  },
  "language_info": {
   "codemirror_mode": {
    "name": "ipython",
    "version": 3
   },
   "file_extension": ".py",
   "mimetype": "text/x-python",
   "name": "python",
   "nbconvert_exporter": "python",
   "pygments_lexer": "ipython3",
   "version": "3.10.6"
  },
  "orig_nbformat": 4,
  "vscode": {
   "interpreter": {
    "hash": "aee8b7b246df8f9039afb4144a1f6fd8d2ca17a180786b69acc140d282b71a49"
   }
  }
 },
 "nbformat": 4,
 "nbformat_minor": 2
}

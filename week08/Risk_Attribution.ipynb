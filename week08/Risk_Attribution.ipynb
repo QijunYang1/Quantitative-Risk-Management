{
 "cells": [
  {
   "cell_type": "markdown",
   "metadata": {},
   "source": [
    "# Problem 1:\n",
    "### Part 1 – Calculate the maximum SR portfolio using the method from last week’s homework for the following stocks: AAPL, MSFT, BRK-B, CSCO, and JNJ.\n",
    "### Use the returns from the end of the history (1-14) until the end of February. Calculate the Ex-Post Return Attribution for each Stock."
   ]
  },
  {
   "cell_type": "code",
   "execution_count": 1,
   "metadata": {},
   "outputs": [],
   "source": [
    "import pandas as pd\n",
    "import numpy as np\n",
    "from scipy.stats import norm\n",
    "import datetime\n",
    "import math\n",
    "import itertools\n",
    "from scipy import optimize\n",
    "import sys\n",
    "sys.path.append(\"..\")\n",
    "from RiskPackage.CalculateReturn import return_calculate\n",
    "from scipy import linalg"
   ]
  },
  {
   "cell_type": "markdown",
   "metadata": {},
   "source": [
    "## Calculate the optimal Sharpe ratio portfolio\n",
    "### Using 4-factor Model to calculate the expected return to each stock"
   ]
  },
  {
   "cell_type": "code",
   "execution_count": 2,
   "metadata": {},
   "outputs": [],
   "source": [
    "# parse the data of fama 3-factor\n",
    "fama_data=pd.read_csv('F-F_Research_Data_Factors_daily.CSV')\n",
    "fama_data['Date']=fama_data['Date'].apply(str)\n",
    "fama_data=fama_data.set_index(['Date'])\n",
    "fama_data.index=pd.to_datetime(fama_data.index,format='%Y%m%d')\n",
    "fama_data/=100\n",
    "# parse the data of momentum\n",
    "mom_data=pd.read_csv('F-F_Momentum_Factor_daily.CSV')\n",
    "mom_data['Date']=mom_data['Date'].apply(str)\n",
    "mom_data=mom_data.set_index(['Date'])\n",
    "mom_data.index=pd.to_datetime(mom_data.index,format='%Y%m%d')\n",
    "mom_data/=100\n",
    "# combine them together\n",
    "fama_data=pd.concat([fama_data,mom_data],axis=1)\n",
    "\n",
    "# parse the return data \n",
    "rt=pd.read_csv('Dailyreturn.csv',index_col='Date')\n",
    "rt.index=pd.to_datetime(rt.index)"
   ]
  },
  {
   "cell_type": "code",
   "execution_count": 3,
   "metadata": {},
   "outputs": [],
   "source": [
    "stock_list=['AAPL','MSFT','BRK-B','CSCO','JNJ']"
   ]
  },
  {
   "cell_type": "code",
   "execution_count": 4,
   "metadata": {},
   "outputs": [],
   "source": [
    "# find the intersected date between fama data and return data\n",
    "intersected_date=list(set(rt.index).intersection(set(fama_data.index )))\n",
    "excess_r=rt.sub(fama_data.loc[intersected_date,'RF'].sort_index(axis=0),axis=0)\n",
    "# get the return and excess return data of given stock list\n",
    "rt=rt[stock_list]\n",
    "excess_r=excess_r[stock_list]"
   ]
  },
  {
   "cell_type": "code",
   "execution_count": 5,
   "metadata": {},
   "outputs": [],
   "source": [
    "# Ge the X to do the regression (4 facotrs)\n",
    "x4=pd.concat([fama_data.loc[intersected_date,:'HML'],fama_data.loc[intersected_date,'Mom   ']],axis=1)\n",
    "x4['intersect']=1\n",
    "x4=x4.sort_index(axis=0)\n",
    "# Calculate the beta\n",
    "X4=np.array(x4)\n",
    "beta4=linalg.inv(X4.T@X4)@X4.T@excess_r\n",
    "beta4.index=x4.columns"
   ]
  },
  {
   "cell_type": "code",
   "execution_count": 6,
   "metadata": {},
   "outputs": [],
   "source": [
    "# past 10 years of factor returns\n",
    "expected_fama_factor=fama_data.loc[rt.index[-1]-pd.DateOffset(years=10):rt.index[-1],:].mean()\n",
    "expected_fama_factor['intersect']=1\n",
    "\n",
    "# past 10 years of risk-free rate\n",
    "expected_RF=expected_fama_factor['RF']\n",
    "\n",
    "# 4-factor returns\n",
    "# expected_fama_factor4 = expected_fama_factor[[\"Mkt-RF\",\"SMB\",\"HML\",'Mom   ',\"intersect\"]]\n",
    "beta4=beta4.iloc[:4,:]\n",
    "expected_fama_factor4 = expected_fama_factor[[\"Mkt-RF\",\"SMB\",\"HML\",'Mom   ']]\n",
    "\n",
    "# Expected return of each stock\n",
    "expected_return4=expected_fama_factor4 @ beta4\n",
    "expected_return4=np.log(1+expected_return4)*255\n",
    "# Covariance\n",
    "cov=np.log(1+excess_r).cov()*255"
   ]
  },
  {
   "cell_type": "code",
   "execution_count": 7,
   "metadata": {},
   "outputs": [],
   "source": [
    "def super_efficient_portfolio(expected_rts,cov):\n",
    "    '''Given a target return, use assets to find the optimal portfolio with lowest risk'''\n",
    "    rf=0.0025\n",
    "    fun=lambda wts: -(wts@expected_rts-rf)/np.sqrt(wts@cov@wts)\n",
    "    x0 = np.full(expected_rts.shape[0],1/expected_rts.shape[0])\n",
    "    cons = [{'type':'ineq', 'fun':lambda x:x},\n",
    "        {'type':'eq', 'fun':lambda x:sum(x)-1}]\n",
    "    bounds = [(0, 1) for _ in range(expected_rts.shape[0])]\n",
    "    res = optimize.minimize(fun, x0, method='SLSQP',bounds=bounds,constraints=cons)\n",
    "    return res"
   ]
  },
  {
   "cell_type": "code",
   "execution_count": 8,
   "metadata": {},
   "outputs": [],
   "source": [
    "# optimal portfolio\n",
    "res=super_efficient_portfolio(expected_return4,cov)\n",
    "SR_Portfolio=pd.DataFrame(index=stock_list)\n",
    "SR_Portfolio['Weight']=res.x\n",
    "SR_Portfolio['return_attribution']=res.x*expected_return4"
   ]
  },
  {
   "cell_type": "markdown",
   "metadata": {},
   "source": [
    "## Realized Return Attribution"
   ]
  },
  {
   "cell_type": "code",
   "execution_count": 9,
   "metadata": {},
   "outputs": [],
   "source": [
    "# Get Updated Prices \n",
    "updated=pd.read_csv('updated_prices.csv',index_col='Date')\n",
    "\n",
    "#calculate portfolio return and updated weights for each day\n",
    "rts=return_calculate(updated,rm_means=False)\n",
    "rts.index=pd.to_datetime(rts.index)\n",
    "\n",
    "# Use the optimal portforlio weights as initial weights\n",
    "last_weight=SR_Portfolio['Weight']\n",
    "weights=[]\n",
    "portfolio_rts=[]\n",
    "for i in range(rts.shape[0]):\n",
    "    # Store the weights\n",
    "    weights.append(last_weight)\n",
    "\n",
    "    # Update Weights by return\n",
    "    last_weight=last_weight*(rts.iloc[i,1:]+1)\n",
    "    # Calculate the portforlio return\n",
    "    p_rt=last_weight.sum()\n",
    "    # Normalize the wieghts back so sum = 1\n",
    "    last_weight=last_weight/p_rt\n",
    "    \n",
    "    # Store the portforlio return\n",
    "    portfolio_rts.append(p_rt-1)\n",
    "weights=pd.DataFrame(weights,index=rts.index)\n",
    "weights.index=pd.to_datetime(weights.index)\n",
    "\n",
    "# Add the Portfolio Return to the dataframe rts\n",
    "rts['PortfolioReturn']=pd.DataFrame(portfolio_rts,index=rts.index)\n",
    "# Calculate the total return\n",
    "total_rt=(rts['PortfolioReturn']+1).prod()-1"
   ]
  },
  {
   "cell_type": "code",
   "execution_count": 10,
   "metadata": {},
   "outputs": [],
   "source": [
    "# Calculate the Carino K\n",
    "k=np.log(total_rt+1)/total_rt\n",
    "# Carino k_t is the ratio scaled by 1/K \n",
    "carinoK = np.log(1+rts['PortfolioReturn'])/k/rts['PortfolioReturn']\n",
    "# Transform carinoK to dataframe to be multiplied by weights and rts\n",
    "carinoK_df=pd.DataFrame([carinoK]*weights.shape[1],index=weights.columns).T\n",
    "# Calculate the return attribution (has been adjusted by carinoK_df)\n",
    "return_attribution=(weights * rts * carinoK_df).dropna(axis=1)"
   ]
  },
  {
   "cell_type": "code",
   "execution_count": 11,
   "metadata": {},
   "outputs": [
    {
     "name": "stdout",
     "output_type": "stream",
     "text": [
      "True\n"
     ]
    },
    {
     "data": {
      "text/html": [
       "<div>\n",
       "<style scoped>\n",
       "    .dataframe tbody tr th:only-of-type {\n",
       "        vertical-align: middle;\n",
       "    }\n",
       "\n",
       "    .dataframe tbody tr th {\n",
       "        vertical-align: top;\n",
       "    }\n",
       "\n",
       "    .dataframe thead th {\n",
       "        text-align: right;\n",
       "    }\n",
       "</style>\n",
       "<table border=\"1\" class=\"dataframe\">\n",
       "  <thead>\n",
       "    <tr style=\"text-align: right;\">\n",
       "      <th></th>\n",
       "      <th>AAPL</th>\n",
       "      <th>BRK-B</th>\n",
       "      <th>CSCO</th>\n",
       "      <th>JNJ</th>\n",
       "      <th>MSFT</th>\n",
       "      <th>PortfolioReturn</th>\n",
       "    </tr>\n",
       "  </thead>\n",
       "  <tbody>\n",
       "    <tr>\n",
       "      <th>TotalReturnAttribution</th>\n",
       "      <td>-0.00459</td>\n",
       "      <td>-0.003693</td>\n",
       "      <td>-0.007547</td>\n",
       "      <td>-0.002152</td>\n",
       "      <td>-0.007082</td>\n",
       "      <td>-0.025063</td>\n",
       "    </tr>\n",
       "    <tr>\n",
       "      <th>RealizedTotalReturn</th>\n",
       "      <td>-0.04472</td>\n",
       "      <td>-0.008268</td>\n",
       "      <td>-0.091102</td>\n",
       "      <td>-0.013189</td>\n",
       "      <td>-0.034791</td>\n",
       "      <td>-0.025063</td>\n",
       "    </tr>\n",
       "  </tbody>\n",
       "</table>\n",
       "</div>"
      ],
      "text/plain": [
       "                           AAPL     BRK-B      CSCO       JNJ      MSFT  \\\n",
       "TotalReturnAttribution -0.00459 -0.003693 -0.007547 -0.002152 -0.007082   \n",
       "RealizedTotalReturn    -0.04472 -0.008268 -0.091102 -0.013189 -0.034791   \n",
       "\n",
       "                        PortfolioReturn  \n",
       "TotalReturnAttribution        -0.025063  \n",
       "RealizedTotalReturn           -0.025063  "
      ]
     },
     "execution_count": 11,
     "metadata": {},
     "output_type": "execute_result"
    }
   ],
   "source": [
    "# Calculate the total return attribution\n",
    "total_rt_attribution=return_attribution.sum()\n",
    "# Calculate the total return of each stock and portfolio\n",
    "total_rts=((rts+1).prod()-1).iloc[1:]\n",
    "# Combine the total_rt_attribution and total_rts together to compare with each other\n",
    "attribution_df=pd.concat([total_rt_attribution,total_rts],axis=1).T\n",
    "attribution_df.index=['TotalReturnAttribution','RealizedTotalReturn']\n",
    "# Validate whether the sum of Total Return Attribution is equal to the total Portfolio Return or not\n",
    "# Check that the attribution sums back to the total Portfolio return\n",
    "attribution_df.loc['TotalReturnAttribution','PortfolioReturn']=attribution_df.loc['TotalReturnAttribution'][:-1].sum()\n",
    "print(np.isclose(attribution_df.loc['TotalReturnAttribution','PortfolioReturn'],attribution_df.loc['RealizedTotalReturn','PortfolioReturn']))\n",
    "attribution_df"
   ]
  },
  {
   "cell_type": "markdown",
   "metadata": {},
   "source": [
    "### Part 2 – Using the same data as part 1, add the risk attribution for each stock:"
   ]
  },
  {
   "cell_type": "markdown",
   "metadata": {},
   "source": [
    "## Realized Volatility Attribution"
   ]
  },
  {
   "cell_type": "code",
   "execution_count": 12,
   "metadata": {},
   "outputs": [
    {
     "name": "stdout",
     "output_type": "stream",
     "text": [
      "[ True]\n"
     ]
    },
    {
     "data": {
      "text/html": [
       "<div>\n",
       "<style scoped>\n",
       "    .dataframe tbody tr th:only-of-type {\n",
       "        vertical-align: middle;\n",
       "    }\n",
       "\n",
       "    .dataframe tbody tr th {\n",
       "        vertical-align: top;\n",
       "    }\n",
       "\n",
       "    .dataframe thead th {\n",
       "        text-align: right;\n",
       "    }\n",
       "</style>\n",
       "<table border=\"1\" class=\"dataframe\">\n",
       "  <thead>\n",
       "    <tr style=\"text-align: right;\">\n",
       "      <th></th>\n",
       "      <th>AAPL</th>\n",
       "      <th>BRK-B</th>\n",
       "      <th>CSCO</th>\n",
       "      <th>JNJ</th>\n",
       "      <th>MSFT</th>\n",
       "      <th>Portfolio</th>\n",
       "    </tr>\n",
       "  </thead>\n",
       "  <tbody>\n",
       "    <tr>\n",
       "      <th>TotalReturnAttribution</th>\n",
       "      <td>-0.004590</td>\n",
       "      <td>-0.003693</td>\n",
       "      <td>-0.007547</td>\n",
       "      <td>-0.002152</td>\n",
       "      <td>-0.007082</td>\n",
       "      <td>-0.025063</td>\n",
       "    </tr>\n",
       "    <tr>\n",
       "      <th>RealizedTotalReturn</th>\n",
       "      <td>-0.044720</td>\n",
       "      <td>-0.008268</td>\n",
       "      <td>-0.091102</td>\n",
       "      <td>-0.013189</td>\n",
       "      <td>-0.034791</td>\n",
       "      <td>-0.025063</td>\n",
       "    </tr>\n",
       "    <tr>\n",
       "      <th>VolatilityAttribution</th>\n",
       "      <td>0.001593</td>\n",
       "      <td>0.004773</td>\n",
       "      <td>0.000910</td>\n",
       "      <td>0.001434</td>\n",
       "      <td>0.003215</td>\n",
       "      <td>0.011926</td>\n",
       "    </tr>\n",
       "  </tbody>\n",
       "</table>\n",
       "</div>"
      ],
      "text/plain": [
       "                            AAPL     BRK-B      CSCO       JNJ      MSFT  \\\n",
       "TotalReturnAttribution -0.004590 -0.003693 -0.007547 -0.002152 -0.007082   \n",
       "RealizedTotalReturn    -0.044720 -0.008268 -0.091102 -0.013189 -0.034791   \n",
       "VolatilityAttribution   0.001593  0.004773  0.000910  0.001434  0.003215   \n",
       "\n",
       "                        Portfolio  \n",
       "TotalReturnAttribution  -0.025063  \n",
       "RealizedTotalReturn     -0.025063  \n",
       "VolatilityAttribution    0.011926  "
      ]
     },
     "execution_count": 12,
     "metadata": {},
     "output_type": "execute_result"
    }
   ],
   "source": [
    "# Y is stock returns scaled by their weight at each time\n",
    "Y = (weights * rts).dropna(axis=1)\n",
    "\n",
    "# Set up X with the Portfolio Return\n",
    "X = pd.DataFrame(rts['PortfolioReturn'])\n",
    "X['Intersect']=1\n",
    "\n",
    "# Calculate the Beta and discard the intercept\n",
    "B = (linalg.inv(X.T@X)@X.T@Y).iloc[:-1,:]\n",
    "\n",
    "# Component SD is Beta times the standard Deviation of the portfolio\n",
    "cSD = B * rts['PortfolioReturn'].std()\n",
    "\n",
    "#Check that the sum of component SD is equal to the portfolio SD\n",
    "print(np.isclose(cSD.sum(axis=1),rts['PortfolioReturn'].std()))\n",
    "\n",
    "# Add the portfolio SD to the cSD\n",
    "cSD['Portfolio']=rts['PortfolioReturn'].std()\n",
    "\n",
    "# Add the Vol attribution to attribution_df\n",
    "columns=list(attribution_df.columns)\n",
    "columns[-1]='Portfolio'\n",
    "attribution_df.columns=columns\n",
    "attribution_df.loc['VolatilityAttribution',:]=cSD.values\n",
    "attribution_df"
   ]
  },
  {
   "cell_type": "markdown",
   "metadata": {},
   "source": [
    "# Problem 2:\n",
    "### Using the same data as Problem 1, attribute realized risk and return to the Fama French 3+Momentum model. Report the residual total as Portfolio Alpha."
   ]
  },
  {
   "cell_type": "code",
   "execution_count": 13,
   "metadata": {},
   "outputs": [],
   "source": [
    "# Clear the memory\n",
    "%reset -f\n",
    "\n",
    "import pandas as pd\n",
    "import numpy as np\n",
    "from scipy.stats import norm\n",
    "import datetime\n",
    "import math\n",
    "import itertools\n",
    "from scipy import optimize\n",
    "import sys\n",
    "sys.path.append(\"..\")\n",
    "from RiskPackage.CalculateReturn import return_calculate\n",
    "from scipy import linalg"
   ]
  },
  {
   "cell_type": "markdown",
   "metadata": {},
   "source": [
    "## Calculate the optimal Sharpe ratio portfolio\n",
    "### Using 4-factor Model to calculate the expected return to each stock"
   ]
  },
  {
   "cell_type": "code",
   "execution_count": 14,
   "metadata": {},
   "outputs": [],
   "source": [
    "# parse the data of fama 3-factor\n",
    "fama_data=pd.read_csv('F-F_Research_Data_Factors_daily.CSV')\n",
    "fama_data['Date']=fama_data['Date'].apply(str)\n",
    "fama_data=fama_data.set_index(['Date'])\n",
    "fama_data.index=pd.to_datetime(fama_data.index,format='%Y%m%d')\n",
    "fama_data/=100\n",
    "# parse the data of momentum\n",
    "mom_data=pd.read_csv('F-F_Momentum_Factor_daily.CSV')\n",
    "mom_data['Date']=mom_data['Date'].apply(str)\n",
    "mom_data=mom_data.set_index(['Date'])\n",
    "mom_data.index=pd.to_datetime(mom_data.index,format='%Y%m%d')\n",
    "mom_data/=100\n",
    "# combine them together\n",
    "fama_data=pd.concat([fama_data,mom_data],axis=1)\n",
    "\n",
    "# parse the return data \n",
    "rt=pd.read_csv('Dailyreturn.csv',index_col='Date')\n",
    "rt.index=pd.to_datetime(rt.index)"
   ]
  },
  {
   "cell_type": "code",
   "execution_count": 15,
   "metadata": {},
   "outputs": [],
   "source": [
    "stock_list=['AAPL','MSFT','BRK-B','CSCO','JNJ']"
   ]
  },
  {
   "cell_type": "code",
   "execution_count": 16,
   "metadata": {},
   "outputs": [],
   "source": [
    "# find the intersected date between fama data and return data\n",
    "intersected_date=list(set(rt.index).intersection(set(fama_data.index )))\n",
    "excess_r=rt.sub(fama_data.loc[intersected_date,'RF'].sort_index(axis=0),axis=0)\n",
    "# get the return and excess return data of given stock list\n",
    "rt=rt[stock_list]\n",
    "excess_r=excess_r[stock_list]"
   ]
  },
  {
   "cell_type": "code",
   "execution_count": 17,
   "metadata": {},
   "outputs": [],
   "source": [
    "# Ge the X to do the regression (4 facotrs)\n",
    "x4=pd.concat([fama_data.loc[intersected_date,:'HML'],fama_data.loc[intersected_date,'Mom   ']],axis=1)\n",
    "x4['intersect']=1\n",
    "x4=x4.sort_index(axis=0)\n",
    "# Calculate the beta\n",
    "X4=np.array(x4)\n",
    "beta4=linalg.inv(X4.T@X4)@X4.T@excess_r\n",
    "beta4.index=x4.columns"
   ]
  },
  {
   "cell_type": "code",
   "execution_count": 18,
   "metadata": {},
   "outputs": [],
   "source": [
    "# past 10 years of factor returns\n",
    "expected_fama_factor=fama_data.loc[rt.index[-1]-pd.DateOffset(years=10):rt.index[-1],:].mean()\n",
    "expected_fama_factor['intersect']=1\n",
    "\n",
    "# past 10 years of risk-free rate\n",
    "expected_RF=expected_fama_factor['RF']\n",
    "\n",
    "# 4-factor returns\n",
    "# expected_fama_factor4 = expected_fama_factor[[\"Mkt-RF\",\"SMB\",\"HML\",'Mom   ',\"intersect\"]]\n",
    "beta4=beta4.iloc[:4,:]\n",
    "expected_fama_factor4 = expected_fama_factor[[\"Mkt-RF\",\"SMB\",\"HML\",'Mom   ']]\n",
    "\n",
    "# Expected return of each stock\n",
    "expected_return4=expected_fama_factor4 @ beta4\n",
    "expected_return4=np.log(1+expected_return4)*255\n",
    "# Covariance\n",
    "cov=np.log(1+excess_r).cov()*255"
   ]
  },
  {
   "cell_type": "code",
   "execution_count": 19,
   "metadata": {},
   "outputs": [],
   "source": [
    "def super_efficient_portfolio(expected_rts,cov):\n",
    "    '''Given a target return, use assets to find the optimal portfolio with lowest risk'''\n",
    "    rf=0.0025\n",
    "    fun=lambda wts: -(wts@expected_rts-rf)/np.sqrt(wts@cov@wts)\n",
    "    x0 = np.full(expected_rts.shape[0],1/expected_rts.shape[0])\n",
    "    cons = [{'type':'ineq', 'fun':lambda x:x},\n",
    "        {'type':'eq', 'fun':lambda x:sum(x)-1}]\n",
    "    bounds = [(0, 1) for _ in range(expected_rts.shape[0])]\n",
    "    res = optimize.minimize(fun, x0, method='SLSQP',bounds=bounds,constraints=cons)\n",
    "    return res"
   ]
  },
  {
   "cell_type": "code",
   "execution_count": 20,
   "metadata": {},
   "outputs": [],
   "source": [
    "# optimal portfolio\n",
    "res=super_efficient_portfolio(expected_return4,cov)\n",
    "SR_Portfolio=pd.DataFrame(index=stock_list)\n",
    "SR_Portfolio['Weight']=res.x\n",
    "SR_Portfolio['return_attribution']=res.x*expected_return4"
   ]
  },
  {
   "cell_type": "markdown",
   "metadata": {},
   "source": [
    "## Factor Attribution"
   ]
  },
  {
   "cell_type": "code",
   "execution_count": 21,
   "metadata": {},
   "outputs": [],
   "source": [
    "# Get Updated Prices \n",
    "updated=pd.read_csv('updated_prices.csv',index_col='Date')\n",
    "\n",
    "#calculate portfolio return and updated weights for each day\n",
    "rts=return_calculate(updated,rm_means=False)\n",
    "rts.index=pd.to_datetime(rts.index)\n",
    "\n",
    "# Update the Fama date to the latest\n",
    "updated_fama3=pd.read_csv('updated_F-F_Research_Data_Factors_daily.CSV')\n",
    "updated_fama3['Date']=updated_fama3['Date'].apply(str)\n",
    "updated_fama3=updated_fama3.set_index(['Date'])\n",
    "updated_fama3.index=pd.to_datetime(updated_fama3.index,format='%Y%m%d')\n",
    "updated_fama3/=100\n",
    "\n",
    "updated_mom=pd.read_csv('updated_F-F_Momentum_Factor_daily.CSV')\n",
    "updated_mom['Date']=updated_mom['Date'].apply(str)\n",
    "updated_mom=updated_mom.set_index(['Date'])\n",
    "updated_mom.index=pd.to_datetime(updated_mom.index,format='%Y%m%d')\n",
    "updated_mom/=100\n",
    "\n",
    "updated_fama=pd.concat([updated_fama3,updated_mom],axis=1)\n",
    "updated_fama=pd.concat([fama_data,updated_fama])\n",
    "\n",
    "# filter the FF returns to just the Stock return data\n",
    "updated_fama=updated_fama.loc[rts.index][[\"Mkt-RF\",\"SMB\",\"HML\",'Mom   ']]"
   ]
  },
  {
   "cell_type": "code",
   "execution_count": 22,
   "metadata": {},
   "outputs": [],
   "source": [
    "# Use the optimal portforlio weights as initial weights\n",
    "last_weight=SR_Portfolio['Weight']\n",
    "\n",
    "# Weights\n",
    "weights=[]\n",
    "#  Factor weights\n",
    "factorWeights=[]\n",
    "# Portfolio Return\n",
    "portfolio_rts=[]\n",
    "# Beta of each stock\n",
    "Beta=beta4\n",
    "# Residual Return\n",
    "residReturn=[]\n",
    "\n",
    "for i in range(rts.shape[0]):\n",
    "    # Calculate/Update and store Factor weights \n",
    "    factorWeights.append(last_weight@beta4.T)\n",
    "    # store weights \n",
    "    weights.append(last_weight)\n",
    "\n",
    "    # Update Weights by return\n",
    "    last_weight=last_weight*(rts.iloc[i,1:]+1)\n",
    "    # Calculate the portforlio return\n",
    "    p_rt=last_weight.sum()\n",
    "    # Normalize the wieghts back so sum = 1\n",
    "    last_weight=last_weight/p_rt\n",
    "\n",
    "    # Store the portforlio return\n",
    "    portfolio_rts.append(p_rt-1)\n",
    "    \n",
    "    # Calculate and store the Residual return\n",
    "    residReturn.append(portfolio_rts[-1]-factorWeights[-1]@updated_fama.iloc[i,:])\n",
    "    \n",
    "weights=pd.DataFrame(weights,index=rts.index)\n",
    "factorWeights=pd.DataFrame(factorWeights,index=rts.index)\n",
    "portfolio_rts=pd.DataFrame(portfolio_rts,index=rts.index,columns=['Portfolio'])\n",
    "residReturn=pd.DataFrame(residReturn,index=rts.index,columns=['Alpha'])\n",
    "# Calculate the total return\n",
    "total_rt=(portfolio_rts+1).prod()-1"
   ]
  },
  {
   "cell_type": "code",
   "execution_count": 23,
   "metadata": {},
   "outputs": [],
   "source": [
    "# Calculate the Carino K\n",
    "k=np.log(total_rt+1)/total_rt\n",
    "# Carino k_t is the ratio scaled by 1/K \n",
    "carinoK = np.log(1+portfolio_rts)/k/portfolio_rts\n",
    "\n",
    "# # Used for position return attribution\n",
    "# # Transform carinoK to dataframe to be multiplied by weights and rts\n",
    "# carinoK_df=pd.DataFrame([carinoK['Portfolio']] * weights.shape[1],index=weights.columns).T\n",
    "# # Calculate the return attribution of underlying positions (has been adjusted by carinoK_df)\n",
    "# return_attribution=(weights * rts * carinoK_df).dropna(axis=1)\n",
    "\n",
    "# Used for factor Attribution\n",
    "# Calculate the return attribution of each Factor (has been adjusted by carinoK_df)\n",
    "return_attribution_factors=(factorWeights * updated_fama).apply(carinoK['Portfolio'].multiply)\n",
    "# Residual return attribution\n",
    "return_attribution_factors['Alpha']=residReturn.apply(carinoK['Portfolio'].multiply)"
   ]
  },
  {
   "cell_type": "code",
   "execution_count": 24,
   "metadata": {},
   "outputs": [
    {
     "name": "stdout",
     "output_type": "stream",
     "text": [
      "True\n"
     ]
    },
    {
     "data": {
      "text/html": [
       "<div>\n",
       "<style scoped>\n",
       "    .dataframe tbody tr th:only-of-type {\n",
       "        vertical-align: middle;\n",
       "    }\n",
       "\n",
       "    .dataframe tbody tr th {\n",
       "        vertical-align: top;\n",
       "    }\n",
       "\n",
       "    .dataframe thead th {\n",
       "        text-align: right;\n",
       "    }\n",
       "</style>\n",
       "<table border=\"1\" class=\"dataframe\">\n",
       "  <thead>\n",
       "    <tr style=\"text-align: right;\">\n",
       "      <th></th>\n",
       "      <th>Mkt-RF</th>\n",
       "      <th>SMB</th>\n",
       "      <th>HML</th>\n",
       "      <th>Mom</th>\n",
       "      <th>Alpha</th>\n",
       "      <th>Portfolio</th>\n",
       "    </tr>\n",
       "  </thead>\n",
       "  <tbody>\n",
       "    <tr>\n",
       "      <th>TotalReturnAttribution</th>\n",
       "      <td>-0.044562</td>\n",
       "      <td>0.000103</td>\n",
       "      <td>0.002425</td>\n",
       "      <td>-0.000610</td>\n",
       "      <td>0.017580</td>\n",
       "      <td>-0.025063</td>\n",
       "    </tr>\n",
       "    <tr>\n",
       "      <th>RealizedTotalReturn</th>\n",
       "      <td>-0.058005</td>\n",
       "      <td>-0.001108</td>\n",
       "      <td>0.020274</td>\n",
       "      <td>0.008215</td>\n",
       "      <td>0.018044</td>\n",
       "      <td>-0.025063</td>\n",
       "    </tr>\n",
       "  </tbody>\n",
       "</table>\n",
       "</div>"
      ],
      "text/plain": [
       "                          Mkt-RF       SMB       HML    Mom        Alpha  \\\n",
       "TotalReturnAttribution -0.044562  0.000103  0.002425 -0.000610  0.017580   \n",
       "RealizedTotalReturn    -0.058005 -0.001108  0.020274  0.008215  0.018044   \n",
       "\n",
       "                        Portfolio  \n",
       "TotalReturnAttribution  -0.025063  \n",
       "RealizedTotalReturn     -0.025063  "
      ]
     },
     "execution_count": 24,
     "metadata": {},
     "output_type": "execute_result"
    }
   ],
   "source": [
    "# Calculate the total return attribution\n",
    "total_rt_attribution_factors=return_attribution_factors.sum()\n",
    "\n",
    "# Calculate the total return of each stock and portfolio\n",
    "updated_fama['Alpha']=residReturn\n",
    "total_rts_factors=((updated_fama+1).prod()-1)\n",
    "\n",
    "# Combine the total_rt_attribution and total_rts together to compare with each other\n",
    "attribution_df_factor=pd.concat([total_rt_attribution_factors,total_rts_factors],axis=1).T\n",
    "attribution_df_factor.index=['TotalReturnAttribution','RealizedTotalReturn']\n",
    "\n",
    "# Calulate the total sum of factor returns\n",
    "attribution_df_factor.loc['TotalReturnAttribution','Portfolio']=attribution_df_factor.loc['TotalReturnAttribution'].sum()\n",
    "attribution_df_factor.loc['RealizedTotalReturn','Portfolio']=total_rt[0]\n",
    "\n",
    "# Validate whether the sum of Total Return Attribution is equal to the total Portfolio Return or not\n",
    "# Check that the attribution sums back to the total Portfolio return\n",
    "print(np.isclose(attribution_df_factor.loc['TotalReturnAttribution','Portfolio'],attribution_df_factor.loc['RealizedTotalReturn','Portfolio']))\n",
    "attribution_df_factor"
   ]
  },
  {
   "cell_type": "markdown",
   "metadata": {},
   "source": [
    "# Realized Volatility Attribution"
   ]
  },
  {
   "cell_type": "code",
   "execution_count": 25,
   "metadata": {},
   "outputs": [
    {
     "name": "stdout",
     "output_type": "stream",
     "text": [
      "[ True]\n"
     ]
    },
    {
     "data": {
      "text/html": [
       "<div>\n",
       "<style scoped>\n",
       "    .dataframe tbody tr th:only-of-type {\n",
       "        vertical-align: middle;\n",
       "    }\n",
       "\n",
       "    .dataframe tbody tr th {\n",
       "        vertical-align: top;\n",
       "    }\n",
       "\n",
       "    .dataframe thead th {\n",
       "        text-align: right;\n",
       "    }\n",
       "</style>\n",
       "<table border=\"1\" class=\"dataframe\">\n",
       "  <thead>\n",
       "    <tr style=\"text-align: right;\">\n",
       "      <th></th>\n",
       "      <th>Mkt-RF</th>\n",
       "      <th>SMB</th>\n",
       "      <th>HML</th>\n",
       "      <th>Mom</th>\n",
       "      <th>Alpha</th>\n",
       "      <th>Portfolio</th>\n",
       "    </tr>\n",
       "  </thead>\n",
       "  <tbody>\n",
       "    <tr>\n",
       "      <th>TotalReturnAttribution</th>\n",
       "      <td>-0.044562</td>\n",
       "      <td>0.000103</td>\n",
       "      <td>0.002425</td>\n",
       "      <td>-0.000610</td>\n",
       "      <td>0.017580</td>\n",
       "      <td>-0.025063</td>\n",
       "    </tr>\n",
       "    <tr>\n",
       "      <th>RealizedTotalReturn</th>\n",
       "      <td>-0.058005</td>\n",
       "      <td>-0.001108</td>\n",
       "      <td>0.020274</td>\n",
       "      <td>0.008215</td>\n",
       "      <td>0.018044</td>\n",
       "      <td>-0.025063</td>\n",
       "    </tr>\n",
       "    <tr>\n",
       "      <th>VolatilityAttribution</th>\n",
       "      <td>0.009948</td>\n",
       "      <td>-0.000111</td>\n",
       "      <td>-0.000728</td>\n",
       "      <td>0.000129</td>\n",
       "      <td>0.002687</td>\n",
       "      <td>0.011926</td>\n",
       "    </tr>\n",
       "  </tbody>\n",
       "</table>\n",
       "</div>"
      ],
      "text/plain": [
       "                          Mkt-RF       SMB       HML    Mom        Alpha  \\\n",
       "TotalReturnAttribution -0.044562  0.000103  0.002425 -0.000610  0.017580   \n",
       "RealizedTotalReturn    -0.058005 -0.001108  0.020274  0.008215  0.018044   \n",
       "VolatilityAttribution   0.009948 -0.000111 -0.000728  0.000129  0.002687   \n",
       "\n",
       "                        Portfolio  \n",
       "TotalReturnAttribution  -0.025063  \n",
       "RealizedTotalReturn     -0.025063  \n",
       "VolatilityAttribution    0.011926  "
      ]
     },
     "execution_count": 25,
     "metadata": {},
     "output_type": "execute_result"
    }
   ],
   "source": [
    "# Y is factor returns scaled by their weight at each time + alpha\n",
    "Y = (factorWeights * updated_fama).dropna(axis=1)\n",
    "Y = pd.concat([Y,residReturn],axis=1)\n",
    "\n",
    "# Set up X with the Portfolio Return\n",
    "X = pd.DataFrame(portfolio_rts)\n",
    "X['Intersect']=1\n",
    "\n",
    "# Calculate the Beta and discard the intercept\n",
    "B = (linalg.inv(X.T@X)@X.T@Y).iloc[:-1,:]\n",
    "\n",
    "# Component SD is Beta times the standard Deviation of the portfolio\n",
    "cSD = B * portfolio_rts['Portfolio'].std()\n",
    "\n",
    "#Check that the sum of component SD is equal to the portfolio SD\n",
    "print(np.isclose(cSD.sum(axis=1),portfolio_rts['Portfolio'].std()))\n",
    "\n",
    "# Add the portfolio SD to the cSD\n",
    "cSD['Portfolio']=portfolio_rts['Portfolio'].std()\n",
    "cSD.index=['VolatilityAttribution']\n",
    "\n",
    "# attribution_df_factor.columns=columns\n",
    "attribution_df_factor=pd.concat([attribution_df_factor,cSD])\n",
    "attribution_df_factor\n",
    "\n"
   ]
  },
  {
   "cell_type": "markdown",
   "metadata": {},
   "source": [
    "# Problem 3:\n",
    "### Using the same data as Problem 1 and assuming a 0 mean return, fit a t distribution to each stock return series. Simulate the system using a Gaussian Copula. Find the Risk Parity portfolio using ES as the risk measure."
   ]
  },
  {
   "cell_type": "code",
   "execution_count": 26,
   "metadata": {},
   "outputs": [],
   "source": [
    "# Clear the memory\n",
    "%reset -f\n",
    "\n",
    "import pandas as pd\n",
    "import numpy as np\n",
    "from scipy.stats import norm,spearmanr,multivariate_normal,t\n",
    "import datetime\n",
    "import math\n",
    "import itertools\n",
    "from scipy import optimize\n",
    "import sys\n",
    "sys.path.append(\"..\")\n",
    "from RiskPackage.CalculateReturn import return_calculate\n",
    "from scipy import linalg\n",
    "from RiskPackage.ModelFitter import ModelFitter,T_mean0\n",
    "from RiskPackage.RiskMetrics import RiskMetrics"
   ]
  },
  {
   "cell_type": "markdown",
   "metadata": {},
   "source": [
    "## Calculate the optimal Sharpe ratio portfolio\n",
    "### Using 4-factor Model to calculate the expected return to each stock"
   ]
  },
  {
   "cell_type": "code",
   "execution_count": 27,
   "metadata": {},
   "outputs": [],
   "source": [
    "# parse the data of fama 3-factor\n",
    "fama_data=pd.read_csv('F-F_Research_Data_Factors_daily.CSV')\n",
    "fama_data['Date']=fama_data['Date'].apply(str)\n",
    "fama_data=fama_data.set_index(['Date'])\n",
    "fama_data.index=pd.to_datetime(fama_data.index,format='%Y%m%d')\n",
    "fama_data/=100\n",
    "# parse the data of momentum\n",
    "mom_data=pd.read_csv('F-F_Momentum_Factor_daily.CSV')\n",
    "mom_data['Date']=mom_data['Date'].apply(str)\n",
    "mom_data=mom_data.set_index(['Date'])\n",
    "mom_data.index=pd.to_datetime(mom_data.index,format='%Y%m%d')\n",
    "mom_data/=100\n",
    "# combine them together\n",
    "fama_data=pd.concat([fama_data,mom_data],axis=1)\n",
    "\n",
    "# parse the return data \n",
    "rt=pd.read_csv('Dailyreturn.csv',index_col='Date')\n",
    "rt.index=pd.to_datetime(rt.index)"
   ]
  },
  {
   "cell_type": "code",
   "execution_count": 28,
   "metadata": {},
   "outputs": [],
   "source": [
    "stock_list=['AAPL','MSFT','BRK-B','CSCO','JNJ']"
   ]
  },
  {
   "cell_type": "code",
   "execution_count": 29,
   "metadata": {},
   "outputs": [],
   "source": [
    "# find the intersected date between fama data and return data\n",
    "intersected_date=list(set(rt.index).intersection(set(fama_data.index )))\n",
    "excess_r=rt.sub(fama_data.loc[intersected_date,'RF'].sort_index(axis=0),axis=0)\n",
    "# get the return and excess return data of given stock list\n",
    "rt=rt[stock_list]\n",
    "excess_r=excess_r[stock_list]"
   ]
  },
  {
   "cell_type": "code",
   "execution_count": 30,
   "metadata": {},
   "outputs": [],
   "source": [
    "# Ge the X to do the regression (4 facotrs)\n",
    "x4=pd.concat([fama_data.loc[intersected_date,:'HML'],fama_data.loc[intersected_date,'Mom   ']],axis=1)\n",
    "x4['intersect']=1\n",
    "x4=x4.sort_index(axis=0)\n",
    "# Calculate the beta\n",
    "X4=np.array(x4)\n",
    "beta4=linalg.inv(X4.T@X4)@X4.T@excess_r\n",
    "beta4.index=x4.columns"
   ]
  },
  {
   "cell_type": "code",
   "execution_count": 31,
   "metadata": {},
   "outputs": [],
   "source": [
    "# past 10 years of factor returns\n",
    "expected_fama_factor=fama_data.loc[rt.index[-1]-pd.DateOffset(years=10):rt.index[-1],:].mean()\n",
    "expected_fama_factor['intersect']=1\n",
    "\n",
    "# past 10 years of risk-free rate\n",
    "expected_RF=expected_fama_factor['RF']\n",
    "\n",
    "# 4-factor returns\n",
    "# expected_fama_factor4 = expected_fama_factor[[\"Mkt-RF\",\"SMB\",\"HML\",'Mom   ',\"intersect\"]]\n",
    "beta4=beta4.iloc[:4,:]\n",
    "expected_fama_factor4 = expected_fama_factor[[\"Mkt-RF\",\"SMB\",\"HML\",'Mom   ']]\n",
    "\n",
    "# Expected return of each stock\n",
    "expected_return4=expected_fama_factor4 @ beta4\n",
    "expected_return4=np.log(1+expected_return4)*255\n",
    "# Covariance\n",
    "cov=np.log(1+excess_r).cov()*255"
   ]
  },
  {
   "cell_type": "markdown",
   "metadata": {},
   "source": [
    "## Super Efficient, Maximum Sharpe Ratio, portfolio"
   ]
  },
  {
   "cell_type": "code",
   "execution_count": 32,
   "metadata": {},
   "outputs": [],
   "source": [
    "def super_efficient_portfolio(expected_rts,cov):\n",
    "    '''Given a target return, use assets to find the optimal portfolio with lowest risk'''\n",
    "    rf=0.0025\n",
    "    fun=lambda wts: -(wts@expected_rts-rf)/np.sqrt(wts@cov@wts)\n",
    "    x0 = np.full(expected_rts.shape[0],1/expected_rts.shape[0])\n",
    "    cons = [{'type':'ineq', 'fun':lambda x:x},\n",
    "        {'type':'eq', 'fun':lambda x:sum(x)-1}]\n",
    "    bounds = [(0, 1) for _ in range(expected_rts.shape[0])]\n",
    "    res = optimize.minimize(fun, x0, method='SLSQP',bounds=bounds,constraints=cons)\n",
    "    return res"
   ]
  },
  {
   "cell_type": "code",
   "execution_count": 33,
   "metadata": {},
   "outputs": [],
   "source": [
    "# optimal portfolio\n",
    "res=super_efficient_portfolio(expected_return4,cov)\n",
    "SR_Portfolio=pd.DataFrame(index=stock_list)\n",
    "SR_Portfolio['Weight']=res.x\n",
    "SR_Portfolio['return_attribution']=res.x*expected_return4"
   ]
  },
  {
   "cell_type": "markdown",
   "metadata": {},
   "source": [
    "## Volatility Risk Parity Portfolio "
   ]
  },
  {
   "cell_type": "code",
   "execution_count": 34,
   "metadata": {},
   "outputs": [],
   "source": [
    "def riskBudget(w,cov):\n",
    "    '''Calculate the portion of risk each stock of portfolio has. The sum of result is 1'''\n",
    "    portfolioStd=np.sqrt(w@cov@w)\n",
    "    Csd=w*(cov@w)/portfolioStd\n",
    "    return Csd/portfolioStd"
   ]
  },
  {
   "cell_type": "code",
   "execution_count": 35,
   "metadata": {},
   "outputs": [
    {
     "data": {
      "text/html": [
       "<div>\n",
       "<style scoped>\n",
       "    .dataframe tbody tr th:only-of-type {\n",
       "        vertical-align: middle;\n",
       "    }\n",
       "\n",
       "    .dataframe tbody tr th {\n",
       "        vertical-align: top;\n",
       "    }\n",
       "\n",
       "    .dataframe thead th {\n",
       "        text-align: right;\n",
       "    }\n",
       "</style>\n",
       "<table border=\"1\" class=\"dataframe\">\n",
       "  <thead>\n",
       "    <tr style=\"text-align: right;\">\n",
       "      <th></th>\n",
       "      <th>Weight</th>\n",
       "      <th>return_attribution</th>\n",
       "      <th>RiskPortion</th>\n",
       "    </tr>\n",
       "  </thead>\n",
       "  <tbody>\n",
       "    <tr>\n",
       "      <th>AAPL</th>\n",
       "      <td>0.100792</td>\n",
       "      <td>0.014285</td>\n",
       "      <td>0.118004</td>\n",
       "    </tr>\n",
       "    <tr>\n",
       "      <th>MSFT</th>\n",
       "      <td>0.209487</td>\n",
       "      <td>0.035649</td>\n",
       "      <td>0.295352</td>\n",
       "    </tr>\n",
       "    <tr>\n",
       "      <th>BRK-B</th>\n",
       "      <td>0.438283</td>\n",
       "      <td>0.048322</td>\n",
       "      <td>0.397046</td>\n",
       "    </tr>\n",
       "    <tr>\n",
       "      <th>CSCO</th>\n",
       "      <td>0.081217</td>\n",
       "      <td>0.011085</td>\n",
       "      <td>0.091508</td>\n",
       "    </tr>\n",
       "    <tr>\n",
       "      <th>JNJ</th>\n",
       "      <td>0.170222</td>\n",
       "      <td>0.012090</td>\n",
       "      <td>0.098090</td>\n",
       "    </tr>\n",
       "  </tbody>\n",
       "</table>\n",
       "</div>"
      ],
      "text/plain": [
       "         Weight  return_attribution  RiskPortion\n",
       "AAPL   0.100792            0.014285     0.118004\n",
       "MSFT   0.209487            0.035649     0.295352\n",
       "BRK-B  0.438283            0.048322     0.397046\n",
       "CSCO   0.081217            0.011085     0.091508\n",
       "JNJ    0.170222            0.012090     0.098090"
      ]
     },
     "execution_count": 35,
     "metadata": {},
     "output_type": "execute_result"
    }
   ],
   "source": [
    "SR_Portfolio['RiskPortion']=riskBudget(SR_Portfolio['Weight'],cov)\n",
    "SR_Portfolio"
   ]
  },
  {
   "cell_type": "code",
   "execution_count": 36,
   "metadata": {},
   "outputs": [],
   "source": [
    "def RiskParity(cov):\n",
    "    '''Given a target return, use assets to find the optimal portfolio with lowest risk'''\n",
    "    fun=lambda w: (w*(cov@w)/np.sqrt(w@cov@w)).std()\n",
    "    x0 = np.full(cov.shape[0],1/cov.shape[0])\n",
    "    cons = [{'type':'ineq', 'fun':lambda x:x},\n",
    "        {'type':'eq', 'fun':lambda x:sum(x)-1}]\n",
    "    bounds = [(0, 1) for _ in range(cov.shape[0])]\n",
    "    res = optimize.minimize(fun, x0, method='SLSQP',bounds=bounds,constraints=cons)\n",
    "    return res"
   ]
  },
  {
   "cell_type": "code",
   "execution_count": 37,
   "metadata": {},
   "outputs": [],
   "source": [
    "SR_Portfolio['return_attribution']=res.x*expected_return4"
   ]
  },
  {
   "cell_type": "code",
   "execution_count": 38,
   "metadata": {},
   "outputs": [
    {
     "data": {
      "text/html": [
       "<div>\n",
       "<style scoped>\n",
       "    .dataframe tbody tr th:only-of-type {\n",
       "        vertical-align: middle;\n",
       "    }\n",
       "\n",
       "    .dataframe tbody tr th {\n",
       "        vertical-align: top;\n",
       "    }\n",
       "\n",
       "    .dataframe thead th {\n",
       "        text-align: right;\n",
       "    }\n",
       "</style>\n",
       "<table border=\"1\" class=\"dataframe\">\n",
       "  <thead>\n",
       "    <tr style=\"text-align: right;\">\n",
       "      <th></th>\n",
       "      <th>Weight</th>\n",
       "      <th>CER</th>\n",
       "      <th>CSD</th>\n",
       "      <th>RiskBudget</th>\n",
       "      <th>AssetVol</th>\n",
       "    </tr>\n",
       "  </thead>\n",
       "  <tbody>\n",
       "    <tr>\n",
       "      <th>AAPL</th>\n",
       "      <td>0.154198</td>\n",
       "      <td>0.021854</td>\n",
       "      <td>0.022686</td>\n",
       "      <td>0.199988</td>\n",
       "      <td>0.255815</td>\n",
       "    </tr>\n",
       "    <tr>\n",
       "      <th>MSFT</th>\n",
       "      <td>0.142554</td>\n",
       "      <td>0.024259</td>\n",
       "      <td>0.022685</td>\n",
       "      <td>0.199977</td>\n",
       "      <td>0.255414</td>\n",
       "    </tr>\n",
       "    <tr>\n",
       "      <th>BRK-B</th>\n",
       "      <td>0.265171</td>\n",
       "      <td>0.029236</td>\n",
       "      <td>0.022690</td>\n",
       "      <td>0.200020</td>\n",
       "      <td>0.151584</td>\n",
       "    </tr>\n",
       "    <tr>\n",
       "      <th>CSCO</th>\n",
       "      <td>0.150787</td>\n",
       "      <td>0.020581</td>\n",
       "      <td>0.022688</td>\n",
       "      <td>0.200002</td>\n",
       "      <td>0.233510</td>\n",
       "    </tr>\n",
       "    <tr>\n",
       "      <th>JNJ</th>\n",
       "      <td>0.287290</td>\n",
       "      <td>0.020405</td>\n",
       "      <td>0.022689</td>\n",
       "      <td>0.200013</td>\n",
       "      <td>0.149137</td>\n",
       "    </tr>\n",
       "  </tbody>\n",
       "</table>\n",
       "</div>"
      ],
      "text/plain": [
       "         Weight       CER       CSD  RiskBudget  AssetVol\n",
       "AAPL   0.154198  0.021854  0.022686    0.199988  0.255815\n",
       "MSFT   0.142554  0.024259  0.022685    0.199977  0.255414\n",
       "BRK-B  0.265171  0.029236  0.022690    0.200020  0.151584\n",
       "CSCO   0.150787  0.020581  0.022688    0.200002  0.233510\n",
       "JNJ    0.287290  0.020405  0.022689    0.200013  0.149137"
      ]
     },
     "execution_count": 38,
     "metadata": {},
     "output_type": "execute_result"
    }
   ],
   "source": [
    "# Function to calculate the Csd given the weight\n",
    "CsdFun=lambda w:w*(cov@w)/np.sqrt(w@cov@w)\n",
    "\n",
    "# Risk Parity portfolio\n",
    "res=RiskParity(cov)\n",
    "RP_Portfolio=pd.DataFrame(index=stock_list)\n",
    "RP_Portfolio['Weight']=res.x\n",
    "RP_Portfolio['CER']=res.x * expected_return4 # component expected return \n",
    "RP_Portfolio['CSD']=CsdFun(res.x) # component stanard deviation\n",
    "RP_Portfolio['RiskBudget']=riskBudget(RP_Portfolio['Weight'],cov) \n",
    "RP_Portfolio['AssetVol']=np.sqrt(np.diag(cov))\n",
    "RP_Portfolio"
   ]
  },
  {
   "cell_type": "markdown",
   "metadata": {},
   "source": [
    "## ES Risk Parity Portfolio"
   ]
  },
  {
   "cell_type": "code",
   "execution_count": 39,
   "metadata": {},
   "outputs": [],
   "source": [
    "# Remove the mean of excess return of each stock\n",
    "Y = excess_r-excess_r.mean()\n",
    "\n",
    "# Use the CDF to transform the data to uniform universe\n",
    "U=[]\n",
    "Model_T=[]\n",
    "for i in range(Y.shape[1]):\n",
    "    params=t.fit(Y.iloc[:,i].values)\n",
    "    Model_T.append(t(df=params[0],loc=params[1],scale=params[2]))\n",
    "    U.append(Model_T[i].cdf(Y.iloc[:,i]))\n",
    "\n",
    "nSim = 10000\n",
    "\n",
    "# Gaussian Copula -- Technically we should do 255 days ahead...\n",
    "# Use the standard normal quantile function to transform the uniform to normal \n",
    "Z=norm.ppf(U)\n",
    "Z=pd.DataFrame(Z,index=Y.columns).T\n",
    "# Spearman correlation\n",
    "corr_spearman = spearmanr(Z,axis=0)[0]\n",
    "# Simulate Normal & Transform to uniform\n",
    "simU=norm.cdf(multivariate_normal.rvs(cov=corr_spearman, size=nSim))\n",
    "simU=pd.DataFrame(simU,columns=Y.columns)\n",
    "# Transform to T Distribution\n",
    "simReturns=[]\n",
    "for i in range(Y.shape[1]):\n",
    "    simReturns.append(Model_T[i].ppf(simU.iloc[:,i]))\n",
    "simReturns=pd.DataFrame(simReturns,index=Y.columns).T\n"
   ]
  },
  {
   "cell_type": "code",
   "execution_count": 40,
   "metadata": {},
   "outputs": [],
   "source": [
    "def CES(weights,simReturns):\n",
    "    '''Function for the component ES'''\n",
    "    ES=lambda w: RiskMetrics.ES_historical(np.array(simReturns @ w))\n",
    "    ini_ES=ES(weights)\n",
    "    e=1e-6\n",
    "    n=len(weights)\n",
    "    weightsMat=np.array([weights]*n)+np.diag([e]*n)\n",
    "    # component ES\n",
    "    Ces=[]\n",
    "    for i in range(n):\n",
    "        Ces.append(weights[i]*(ES(weightsMat[i])-ini_ES)/e)\n",
    "    return Ces\n",
    "\n",
    "def SSE_CES(weights,simReturns):\n",
    "    Ces=CES(weights,simReturns)\n",
    "    # std(SSE) of CES \n",
    "    return pd.DataFrame(Ces).std()[0]\n",
    "\n",
    "x0 = np.full(simReturns.shape[1],1/simReturns.shape[1])\n",
    "cons = [{'type':'ineq', 'fun':lambda x:x},\n",
    "    {'type':'eq', 'fun':lambda x:sum(x)-1}]\n",
    "bounds = [(0, 1) for _ in range(cov.shape[0])]\n",
    "res = optimize.minimize(SSE_CES, x0, method='SLSQP',bounds=bounds,constraints=cons,args=(simReturns))"
   ]
  },
  {
   "cell_type": "code",
   "execution_count": 43,
   "metadata": {},
   "outputs": [
    {
     "name": "stdout",
     "output_type": "stream",
     "text": [
      "------ ES Risk Parity Portfolio -------\n"
     ]
    },
    {
     "data": {
      "text/html": [
       "<div>\n",
       "<style scoped>\n",
       "    .dataframe tbody tr th:only-of-type {\n",
       "        vertical-align: middle;\n",
       "    }\n",
       "\n",
       "    .dataframe tbody tr th {\n",
       "        vertical-align: top;\n",
       "    }\n",
       "\n",
       "    .dataframe thead th {\n",
       "        text-align: right;\n",
       "    }\n",
       "</style>\n",
       "<table border=\"1\" class=\"dataframe\">\n",
       "  <thead>\n",
       "    <tr style=\"text-align: right;\">\n",
       "      <th></th>\n",
       "      <th>Weight</th>\n",
       "      <th>CER</th>\n",
       "      <th>CSD</th>\n",
       "      <th>RiskBudget</th>\n",
       "      <th>AssetVol</th>\n",
       "      <th>CES</th>\n",
       "    </tr>\n",
       "  </thead>\n",
       "  <tbody>\n",
       "    <tr>\n",
       "      <th>AAPL</th>\n",
       "      <td>0.142281</td>\n",
       "      <td>0.020165</td>\n",
       "      <td>0.019733</td>\n",
       "      <td>0.175846</td>\n",
       "      <td>0.255815</td>\n",
       "      <td>0.003038</td>\n",
       "    </tr>\n",
       "    <tr>\n",
       "      <th>MSFT</th>\n",
       "      <td>0.134850</td>\n",
       "      <td>0.022948</td>\n",
       "      <td>0.020508</td>\n",
       "      <td>0.182751</td>\n",
       "      <td>0.255414</td>\n",
       "      <td>0.003037</td>\n",
       "    </tr>\n",
       "    <tr>\n",
       "      <th>BRK-B</th>\n",
       "      <td>0.268402</td>\n",
       "      <td>0.029592</td>\n",
       "      <td>0.023773</td>\n",
       "      <td>0.211847</td>\n",
       "      <td>0.151584</td>\n",
       "      <td>0.003025</td>\n",
       "    </tr>\n",
       "    <tr>\n",
       "      <th>CSCO</th>\n",
       "      <td>0.151790</td>\n",
       "      <td>0.020718</td>\n",
       "      <td>0.022886</td>\n",
       "      <td>0.203938</td>\n",
       "      <td>0.233510</td>\n",
       "      <td>0.003028</td>\n",
       "    </tr>\n",
       "    <tr>\n",
       "      <th>JNJ</th>\n",
       "      <td>0.302677</td>\n",
       "      <td>0.021498</td>\n",
       "      <td>0.025318</td>\n",
       "      <td>0.225618</td>\n",
       "      <td>0.149137</td>\n",
       "      <td>0.003028</td>\n",
       "    </tr>\n",
       "  </tbody>\n",
       "</table>\n",
       "</div>"
      ],
      "text/plain": [
       "         Weight       CER       CSD  RiskBudget  AssetVol       CES\n",
       "AAPL   0.142281  0.020165  0.019733    0.175846  0.255815  0.003038\n",
       "MSFT   0.134850  0.022948  0.020508    0.182751  0.255414  0.003037\n",
       "BRK-B  0.268402  0.029592  0.023773    0.211847  0.151584  0.003025\n",
       "CSCO   0.151790  0.020718  0.022886    0.203938  0.233510  0.003028\n",
       "JNJ    0.302677  0.021498  0.025318    0.225618  0.149137  0.003028"
      ]
     },
     "execution_count": 43,
     "metadata": {},
     "output_type": "execute_result"
    }
   ],
   "source": [
    "ES=lambda w: RiskMetrics.ES_historical(np.array(simReturns @ w))\n",
    "# Risk Parity portfolio\n",
    "ES_RP_Portfolio=pd.DataFrame(index=stock_list)\n",
    "ES_RP_Portfolio['Weight']=res.x\n",
    "ES_RP_Portfolio['CER']=res.x * expected_return4 # component expected return \n",
    "ES_RP_Portfolio['CSD']=CsdFun(res.x) # component stanard deviation\n",
    "ES_RP_Portfolio['RiskBudget']=riskBudget(ES_RP_Portfolio['Weight'],cov) \n",
    "ES_RP_Portfolio['AssetVol']=np.sqrt(np.diag(cov))\n",
    "ES_RP_Portfolio['CES']=CES(res.x,simReturns)\n",
    "print(\"------ ES Risk Parity Portfolio -------\")\n",
    "ES_RP_Portfolio"
   ]
  },
  {
   "cell_type": "code",
   "execution_count": 44,
   "metadata": {},
   "outputs": [
    {
     "name": "stdout",
     "output_type": "stream",
     "text": [
      "------ Vol Risk Parity Portfolio -------\n"
     ]
    },
    {
     "data": {
      "text/html": [
       "<div>\n",
       "<style scoped>\n",
       "    .dataframe tbody tr th:only-of-type {\n",
       "        vertical-align: middle;\n",
       "    }\n",
       "\n",
       "    .dataframe tbody tr th {\n",
       "        vertical-align: top;\n",
       "    }\n",
       "\n",
       "    .dataframe thead th {\n",
       "        text-align: right;\n",
       "    }\n",
       "</style>\n",
       "<table border=\"1\" class=\"dataframe\">\n",
       "  <thead>\n",
       "    <tr style=\"text-align: right;\">\n",
       "      <th></th>\n",
       "      <th>Weight</th>\n",
       "      <th>CER</th>\n",
       "      <th>CSD</th>\n",
       "      <th>RiskBudget</th>\n",
       "      <th>AssetVol</th>\n",
       "    </tr>\n",
       "  </thead>\n",
       "  <tbody>\n",
       "    <tr>\n",
       "      <th>AAPL</th>\n",
       "      <td>0.154198</td>\n",
       "      <td>0.021854</td>\n",
       "      <td>0.022686</td>\n",
       "      <td>0.199988</td>\n",
       "      <td>0.255815</td>\n",
       "    </tr>\n",
       "    <tr>\n",
       "      <th>MSFT</th>\n",
       "      <td>0.142554</td>\n",
       "      <td>0.024259</td>\n",
       "      <td>0.022685</td>\n",
       "      <td>0.199977</td>\n",
       "      <td>0.255414</td>\n",
       "    </tr>\n",
       "    <tr>\n",
       "      <th>BRK-B</th>\n",
       "      <td>0.265171</td>\n",
       "      <td>0.029236</td>\n",
       "      <td>0.022690</td>\n",
       "      <td>0.200020</td>\n",
       "      <td>0.151584</td>\n",
       "    </tr>\n",
       "    <tr>\n",
       "      <th>CSCO</th>\n",
       "      <td>0.150787</td>\n",
       "      <td>0.020581</td>\n",
       "      <td>0.022688</td>\n",
       "      <td>0.200002</td>\n",
       "      <td>0.233510</td>\n",
       "    </tr>\n",
       "    <tr>\n",
       "      <th>JNJ</th>\n",
       "      <td>0.287290</td>\n",
       "      <td>0.020405</td>\n",
       "      <td>0.022689</td>\n",
       "      <td>0.200013</td>\n",
       "      <td>0.149137</td>\n",
       "    </tr>\n",
       "  </tbody>\n",
       "</table>\n",
       "</div>"
      ],
      "text/plain": [
       "         Weight       CER       CSD  RiskBudget  AssetVol\n",
       "AAPL   0.154198  0.021854  0.022686    0.199988  0.255815\n",
       "MSFT   0.142554  0.024259  0.022685    0.199977  0.255414\n",
       "BRK-B  0.265171  0.029236  0.022690    0.200020  0.151584\n",
       "CSCO   0.150787  0.020581  0.022688    0.200002  0.233510\n",
       "JNJ    0.287290  0.020405  0.022689    0.200013  0.149137"
      ]
     },
     "execution_count": 44,
     "metadata": {},
     "output_type": "execute_result"
    }
   ],
   "source": [
    "print(\"------ Vol Risk Parity Portfolio -------\")\n",
    "RP_Portfolio"
   ]
  },
  {
   "cell_type": "markdown",
   "metadata": {},
   "source": [
    "### AAPL returns, with a large DF, are effectively normally distributed in this simulation. Same with BRK-B. \n",
    "### The 2 stocks with the lowest fitted df are both reduced in weight as their fat tails contribute more to tail risk."
   ]
  }
 ],
 "metadata": {
  "kernelspec": {
   "display_name": "Python 3.9.16 ('base')",
   "language": "python",
   "name": "python3"
  },
  "language_info": {
   "codemirror_mode": {
    "name": "ipython",
    "version": 3
   },
   "file_extension": ".py",
   "mimetype": "text/x-python",
   "name": "python",
   "nbconvert_exporter": "python",
   "pygments_lexer": "ipython3",
   "version": "3.9.16"
  },
  "orig_nbformat": 4,
  "vscode": {
   "interpreter": {
    "hash": "36fdbb5a770f13a9d5408f360bf687ae62e761acac988bf20442834c086b2b00"
   }
  }
 },
 "nbformat": 4,
 "nbformat_minor": 2
}
